{
 "cells": [
  {
   "cell_type": "code",
   "execution_count": 1,
   "id": "a89d2e4c",
   "metadata": {
    "id": "a89d2e4c"
   },
   "outputs": [],
   "source": [
    "import joblib\n",
    "import numpy as np \n",
    "import pandas as pd\n",
    "import re\n",
    "import sklearn\n",
    "from sklearn.preprocessing import MinMaxScaler\n",
    "import matplotlib.pyplot as plt\n",
    "from feature_engine.encoding import OneHotEncoder as fe_OneHotEncoder\n",
    "from sklearn.neighbors import NearestNeighbors"
   ]
  },
  {
   "cell_type": "code",
   "execution_count": 2,
   "id": "4e1cccd6",
   "metadata": {
    "id": "4e1cccd6"
   },
   "outputs": [],
   "source": [
    "df = pd.read_csv('./tracks_features.csv')"
   ]
  },
  {
   "cell_type": "code",
   "execution_count": 3,
   "id": "6318c32f",
   "metadata": {
    "id": "6318c32f"
   },
   "outputs": [],
   "source": [
    "# Convert the 'explicit' column from Boolean to Integer\n",
    "def explicit_converter(x):\n",
    "    if x:\n",
    "        return 1 \n",
    "    else:\n",
    "        return 0"
   ]
  },
  {
   "cell_type": "code",
   "execution_count": 4,
   "id": "ff4561e0",
   "metadata": {
    "id": "ff4561e0"
   },
   "outputs": [],
   "source": [
    "# Bins years into decades\n",
    "def decade_function(x):\n",
    "    if x in range(1900,1991):\n",
    "        return '1900-1990'\n",
    "    elif x in range(1991,1996):\n",
    "        return '1991-1995'\n",
    "    elif x in range(1996,2001):\n",
    "        return '1996-2000'\n",
    "    elif x in range(2001,2006):\n",
    "        return '2001-2005'\n",
    "    elif x == 2006:\n",
    "        return '2006' \n",
    "    elif x == 2007:\n",
    "        return '2007'\n",
    "    elif x == 2008:\n",
    "        return '2008'\n",
    "    elif x == 2009:\n",
    "        return '2009'\n",
    "    elif x == 2010:\n",
    "        return '2010'\n",
    "    elif x == 2011:\n",
    "        return '2011'\n",
    "    elif x == 2012:\n",
    "        return '2012'\n",
    "    elif x == 2013:\n",
    "        return '2013'\n",
    "    elif x == 2014:\n",
    "        return '2014'\n",
    "    elif x == 2015:\n",
    "        return '2015'\n",
    "    elif x == 2016:\n",
    "        return '2016'\n",
    "    elif x == 2017:\n",
    "        return '2017'\n",
    "    elif x == 2018:\n",
    "        return '2018'\n",
    "    elif x == 2019:\n",
    "        return '2019'\n",
    "    elif x == 2020:\n",
    "        return '2020'\n",
    "    elif x == 2021:\n",
    "        return '2021'\n",
    "        "
   ]
  },
  {
   "cell_type": "code",
   "execution_count": 5,
   "id": "3be9b2c4",
   "metadata": {
    "id": "3be9b2c4"
   },
   "outputs": [],
   "source": [
    "def wrangle(df):\n",
    "    df_func = df.copy()\n",
    "    # Find and remove duplicate songs from dataframe\n",
    "    df_func['artists_new'] = df_func['artists'].apply(lambda x: re.findall(r\"'([^']*)'\", x))\n",
    "    df_func['artists_new2'] = df_func['artists'].apply(lambda x: re.findall('\\\"(.*?)\\\"',x))\n",
    "    df_func['artists_final'] = np.where(df_func['artists_new'].apply(lambda x: not x), \n",
    "                                   df_func['artists_new2'], df_func['artists_new'])\n",
    "    df_func['artists_song'] = df_func.apply(lambda row: row['artists_final'][0]+row['name'],axis = 1)\n",
    "    df_func.drop_duplicates('artists_song', inplace = True)\n",
    "    \n",
    "    # Apply binarizer function\n",
    "    df_func['explicit'] = df_func['explicit'].apply(explicit_converter)\n",
    "    \n",
    "    # Remove observations where the 'year' column is 0\n",
    "    df_func['year'] = df_func['year'].replace(0, np.nan)\n",
    "    df_func.dropna(subset = ['year'], inplace = True)\n",
    "    \n",
    "    # Apply binning into decades function\n",
    "    df_func['age'] = df_func['year'].apply(np.int64)\n",
    "    df_func['age'] = df_func['age'].apply(decade_function)\n",
    "        \n",
    "    return df_func"
   ]
  },
  {
   "cell_type": "code",
   "execution_count": 6,
   "id": "060400fb",
   "metadata": {
    "id": "060400fb"
   },
   "outputs": [],
   "source": [
    "df1 = wrangle(df)"
   ]
  },
  {
   "cell_type": "code",
   "execution_count": 7,
   "id": "580f795c",
   "metadata": {},
   "outputs": [],
   "source": [
    "df2 = df1.copy()"
   ]
  },
  {
   "cell_type": "code",
   "execution_count": 8,
   "id": "dd0bb39f",
   "metadata": {},
   "outputs": [],
   "source": [
    "# Drop no longer necessary columns\n",
    "cols_to_drop = ['name', 'album', 'artists_final', 'id', 'album_id','artists', \n",
    "                    'artist_ids', 'track_number', 'disc_number', 'release_date', \n",
    "                    'artists_new', 'artists_new2', 'artists_song', 'duration_ms']\n",
    "df2.drop(columns = cols_to_drop, inplace = True)"
   ]
  },
  {
   "cell_type": "code",
   "execution_count": 9,
   "id": "d28ced59",
   "metadata": {
    "colab": {
     "base_uri": "https://localhost:8080/"
    },
    "id": "d28ced59",
    "outputId": "fe054e1b-c312-4f68-9669-eecbb74ef770"
   },
   "outputs": [
    {
     "data": {
      "text/plain": [
       "OneHotEncoder(drop_last=True, variables=['age'])"
      ]
     },
     "execution_count": 9,
     "metadata": {},
     "output_type": "execute_result"
    }
   ],
   "source": [
    "# One Hot Encode 'age' column\n",
    "ohe_enc = fe_OneHotEncoder(\n",
    "    top_categories=None,\n",
    "    variables=['age'], drop_last=True)  # to return k-1, false to return k\n",
    "\n",
    "ohe_enc.fit(df2.fillna('Missing'))"
   ]
  },
  {
   "cell_type": "code",
   "execution_count": 10,
   "id": "Zw8WylaYBasX",
   "metadata": {
    "id": "Zw8WylaYBasX"
   },
   "outputs": [],
   "source": [
    "# Pickle One-Hot-Encoder for prediction transformation\n",
    "ohe_filename = 'ohe.joblib' \n",
    "joblib.dump(ohe_enc, open(ohe_filename, 'wb'), compress=True)"
   ]
  },
  {
   "cell_type": "code",
   "execution_count": 11,
   "id": "2d551aac",
   "metadata": {
    "id": "2d551aac"
   },
   "outputs": [],
   "source": [
    "df2 = ohe_enc.transform(df2.fillna('Missing'))"
   ]
  },
  {
   "cell_type": "code",
   "execution_count": 12,
   "id": "8ROGzMdj72VU",
   "metadata": {
    "id": "8ROGzMdj72VU"
   },
   "outputs": [],
   "source": [
    "#Scale numeric columns in dataframe\n",
    "scale_cols = ['danceability', 'energy', 'loudness', 'speechiness',\n",
    "       'acousticness', 'instrumentalness', 'liveness', 'valence', 'tempo',\n",
    "       'time_signature', 'key', 'mode']\n",
    "scaled = df2[scale_cols]\n",
    "scaler = MinMaxScaler()\n",
    "scaled_float_df = pd.DataFrame(scaler.fit_transform(scaled), columns = scaled.columns)"
   ]
  },
  {
   "cell_type": "code",
   "execution_count": 13,
   "id": "1dyGQGT8-FsM",
   "metadata": {
    "id": "1dyGQGT8-FsM"
   },
   "outputs": [],
   "source": [
    "# Pickle Scaler for prediction transformation\n",
    "scaler_filename = 'scaler.joblib' \n",
    "joblib.dump(scaler, open(scaler_filename, 'wb'), compress=True)"
   ]
  },
  {
   "cell_type": "code",
   "execution_count": 14,
   "id": "871fc36f",
   "metadata": {
    "id": "871fc36f"
   },
   "outputs": [],
   "source": [
    "# Drop scaled features\n",
    "dropper = ['danceability', 'energy', 'loudness', 'speechiness',\n",
    "       'acousticness', 'instrumentalness', 'liveness', 'valence', 'tempo',\n",
    "       'time_signature', 'year', 'key', 'mode']\n",
    "df2 = df2.drop(columns = dropper)"
   ]
  },
  {
   "cell_type": "code",
   "execution_count": 15,
   "id": "_86lLcXvKfsB",
   "metadata": {
    "colab": {
     "base_uri": "https://localhost:8080/",
     "height": 437
    },
    "id": "_86lLcXvKfsB",
    "outputId": "a56f092c-4203-4e04-fc1d-7240f0889b22"
   },
   "outputs": [
    {
     "data": {
      "text/html": [
       "<div>\n",
       "<style scoped>\n",
       "    .dataframe tbody tr th:only-of-type {\n",
       "        vertical-align: middle;\n",
       "    }\n",
       "\n",
       "    .dataframe tbody tr th {\n",
       "        vertical-align: top;\n",
       "    }\n",
       "\n",
       "    .dataframe thead th {\n",
       "        text-align: right;\n",
       "    }\n",
       "</style>\n",
       "<table border=\"1\" class=\"dataframe\">\n",
       "  <thead>\n",
       "    <tr style=\"text-align: right;\">\n",
       "      <th></th>\n",
       "      <th>index</th>\n",
       "      <th>danceability</th>\n",
       "      <th>energy</th>\n",
       "      <th>loudness</th>\n",
       "      <th>speechiness</th>\n",
       "      <th>acousticness</th>\n",
       "      <th>instrumentalness</th>\n",
       "      <th>liveness</th>\n",
       "      <th>valence</th>\n",
       "      <th>tempo</th>\n",
       "      <th>time_signature</th>\n",
       "      <th>key</th>\n",
       "      <th>mode</th>\n",
       "    </tr>\n",
       "  </thead>\n",
       "  <tbody>\n",
       "    <tr>\n",
       "      <th>0</th>\n",
       "      <td>0</td>\n",
       "      <td>0.470</td>\n",
       "      <td>0.978</td>\n",
       "      <td>0.812104</td>\n",
       "      <td>0.075026</td>\n",
       "      <td>0.026205</td>\n",
       "      <td>0.000011</td>\n",
       "      <td>0.3560</td>\n",
       "      <td>0.503</td>\n",
       "      <td>0.473644</td>\n",
       "      <td>0.8</td>\n",
       "      <td>0.636364</td>\n",
       "      <td>1.0</td>\n",
       "    </tr>\n",
       "    <tr>\n",
       "      <th>1</th>\n",
       "      <td>1</td>\n",
       "      <td>0.599</td>\n",
       "      <td>0.957</td>\n",
       "      <td>0.806675</td>\n",
       "      <td>0.194014</td>\n",
       "      <td>0.012952</td>\n",
       "      <td>0.000071</td>\n",
       "      <td>0.1550</td>\n",
       "      <td>0.489</td>\n",
       "      <td>0.416496</td>\n",
       "      <td>0.8</td>\n",
       "      <td>1.000000</td>\n",
       "      <td>1.0</td>\n",
       "    </tr>\n",
       "    <tr>\n",
       "      <th>2</th>\n",
       "      <td>2</td>\n",
       "      <td>0.315</td>\n",
       "      <td>0.970</td>\n",
       "      <td>0.811732</td>\n",
       "      <td>0.498452</td>\n",
       "      <td>0.023494</td>\n",
       "      <td>0.000002</td>\n",
       "      <td>0.1220</td>\n",
       "      <td>0.370</td>\n",
       "      <td>0.601561</td>\n",
       "      <td>0.8</td>\n",
       "      <td>0.636364</td>\n",
       "      <td>1.0</td>\n",
       "    </tr>\n",
       "    <tr>\n",
       "      <th>3</th>\n",
       "      <td>3</td>\n",
       "      <td>0.440</td>\n",
       "      <td>0.967</td>\n",
       "      <td>0.805694</td>\n",
       "      <td>0.244582</td>\n",
       "      <td>0.163655</td>\n",
       "      <td>0.000004</td>\n",
       "      <td>0.1210</td>\n",
       "      <td>0.574</td>\n",
       "      <td>0.388665</td>\n",
       "      <td>0.8</td>\n",
       "      <td>1.000000</td>\n",
       "      <td>0.0</td>\n",
       "    </tr>\n",
       "    <tr>\n",
       "      <th>4</th>\n",
       "      <td>4</td>\n",
       "      <td>0.426</td>\n",
       "      <td>0.929</td>\n",
       "      <td>0.792322</td>\n",
       "      <td>0.072343</td>\n",
       "      <td>0.001627</td>\n",
       "      <td>0.105000</td>\n",
       "      <td>0.0789</td>\n",
       "      <td>0.539</td>\n",
       "      <td>0.510412</td>\n",
       "      <td>0.8</td>\n",
       "      <td>0.181818</td>\n",
       "      <td>1.0</td>\n",
       "    </tr>\n",
       "    <tr>\n",
       "      <th>...</th>\n",
       "      <td>...</td>\n",
       "      <td>...</td>\n",
       "      <td>...</td>\n",
       "      <td>...</td>\n",
       "      <td>...</td>\n",
       "      <td>...</td>\n",
       "      <td>...</td>\n",
       "      <td>...</td>\n",
       "      <td>...</td>\n",
       "      <td>...</td>\n",
       "      <td>...</td>\n",
       "      <td>...</td>\n",
       "      <td>...</td>\n",
       "    </tr>\n",
       "    <tr>\n",
       "      <th>1126171</th>\n",
       "      <td>1126171</td>\n",
       "      <td>0.264</td>\n",
       "      <td>0.966</td>\n",
       "      <td>0.788738</td>\n",
       "      <td>0.069350</td>\n",
       "      <td>0.009388</td>\n",
       "      <td>0.002240</td>\n",
       "      <td>0.3370</td>\n",
       "      <td>0.415</td>\n",
       "      <td>0.641078</td>\n",
       "      <td>0.8</td>\n",
       "      <td>0.454545</td>\n",
       "      <td>0.0</td>\n",
       "    </tr>\n",
       "    <tr>\n",
       "      <th>1126172</th>\n",
       "      <td>1126172</td>\n",
       "      <td>0.796</td>\n",
       "      <td>0.701</td>\n",
       "      <td>0.794211</td>\n",
       "      <td>0.091125</td>\n",
       "      <td>0.104418</td>\n",
       "      <td>0.644000</td>\n",
       "      <td>0.0749</td>\n",
       "      <td>0.781</td>\n",
       "      <td>0.490009</td>\n",
       "      <td>0.8</td>\n",
       "      <td>1.000000</td>\n",
       "      <td>0.0</td>\n",
       "    </tr>\n",
       "    <tr>\n",
       "      <th>1126173</th>\n",
       "      <td>1126173</td>\n",
       "      <td>0.785</td>\n",
       "      <td>0.796</td>\n",
       "      <td>0.803760</td>\n",
       "      <td>0.058204</td>\n",
       "      <td>0.030522</td>\n",
       "      <td>0.918000</td>\n",
       "      <td>0.0664</td>\n",
       "      <td>0.467</td>\n",
       "      <td>0.490074</td>\n",
       "      <td>0.8</td>\n",
       "      <td>0.818182</td>\n",
       "      <td>0.0</td>\n",
       "    </tr>\n",
       "    <tr>\n",
       "      <th>1126174</th>\n",
       "      <td>1126174</td>\n",
       "      <td>0.665</td>\n",
       "      <td>0.856</td>\n",
       "      <td>0.791445</td>\n",
       "      <td>0.042208</td>\n",
       "      <td>0.000070</td>\n",
       "      <td>0.776000</td>\n",
       "      <td>0.1170</td>\n",
       "      <td>0.227</td>\n",
       "      <td>0.502085</td>\n",
       "      <td>0.8</td>\n",
       "      <td>0.545455</td>\n",
       "      <td>0.0</td>\n",
       "    </tr>\n",
       "    <tr>\n",
       "      <th>1126175</th>\n",
       "      <td>1126175</td>\n",
       "      <td>0.736</td>\n",
       "      <td>0.708</td>\n",
       "      <td>0.754395</td>\n",
       "      <td>0.055624</td>\n",
       "      <td>0.016867</td>\n",
       "      <td>0.296000</td>\n",
       "      <td>0.2790</td>\n",
       "      <td>0.204</td>\n",
       "      <td>0.473985</td>\n",
       "      <td>0.8</td>\n",
       "      <td>0.181818</td>\n",
       "      <td>0.0</td>\n",
       "    </tr>\n",
       "  </tbody>\n",
       "</table>\n",
       "<p>1126176 rows × 13 columns</p>\n",
       "</div>"
      ],
      "text/plain": [
       "           index  danceability  energy  loudness  speechiness  acousticness  \\\n",
       "0              0         0.470   0.978  0.812104     0.075026      0.026205   \n",
       "1              1         0.599   0.957  0.806675     0.194014      0.012952   \n",
       "2              2         0.315   0.970  0.811732     0.498452      0.023494   \n",
       "3              3         0.440   0.967  0.805694     0.244582      0.163655   \n",
       "4              4         0.426   0.929  0.792322     0.072343      0.001627   \n",
       "...          ...           ...     ...       ...          ...           ...   \n",
       "1126171  1126171         0.264   0.966  0.788738     0.069350      0.009388   \n",
       "1126172  1126172         0.796   0.701  0.794211     0.091125      0.104418   \n",
       "1126173  1126173         0.785   0.796  0.803760     0.058204      0.030522   \n",
       "1126174  1126174         0.665   0.856  0.791445     0.042208      0.000070   \n",
       "1126175  1126175         0.736   0.708  0.754395     0.055624      0.016867   \n",
       "\n",
       "         instrumentalness  liveness  valence     tempo  time_signature  \\\n",
       "0                0.000011    0.3560    0.503  0.473644             0.8   \n",
       "1                0.000071    0.1550    0.489  0.416496             0.8   \n",
       "2                0.000002    0.1220    0.370  0.601561             0.8   \n",
       "3                0.000004    0.1210    0.574  0.388665             0.8   \n",
       "4                0.105000    0.0789    0.539  0.510412             0.8   \n",
       "...                   ...       ...      ...       ...             ...   \n",
       "1126171          0.002240    0.3370    0.415  0.641078             0.8   \n",
       "1126172          0.644000    0.0749    0.781  0.490009             0.8   \n",
       "1126173          0.918000    0.0664    0.467  0.490074             0.8   \n",
       "1126174          0.776000    0.1170    0.227  0.502085             0.8   \n",
       "1126175          0.296000    0.2790    0.204  0.473985             0.8   \n",
       "\n",
       "              key  mode  \n",
       "0        0.636364   1.0  \n",
       "1        1.000000   1.0  \n",
       "2        0.636364   1.0  \n",
       "3        1.000000   0.0  \n",
       "4        0.181818   1.0  \n",
       "...           ...   ...  \n",
       "1126171  0.454545   0.0  \n",
       "1126172  1.000000   0.0  \n",
       "1126173  0.818182   0.0  \n",
       "1126174  0.545455   0.0  \n",
       "1126175  0.181818   0.0  \n",
       "\n",
       "[1126176 rows x 13 columns]"
      ]
     },
     "execution_count": 15,
     "metadata": {},
     "output_type": "execute_result"
    }
   ],
   "source": [
    "df1 = df1.reset_index()\n",
    "df2 = df2.reset_index()\n",
    "scaled_float_df.reset_index()"
   ]
  },
  {
   "cell_type": "code",
   "execution_count": 16,
   "id": "8175b5e9",
   "metadata": {
    "id": "8175b5e9"
   },
   "outputs": [],
   "source": [
    "df_train = pd.concat([df2, scaled_float_df], axis = 1)"
   ]
  },
  {
   "cell_type": "code",
   "execution_count": 17,
   "id": "2K3bCFHvAtri",
   "metadata": {
    "id": "2K3bCFHvAtri"
   },
   "outputs": [],
   "source": [
    "# Drop unnecessary index\n",
    "df_train = df_train.drop(['index'], axis = 1)"
   ]
  },
  {
   "cell_type": "code",
   "execution_count": 28,
   "id": "6959da1e",
   "metadata": {},
   "outputs": [],
   "source": [
    "df_train.to_csv('df_train.csv')"
   ]
  },
  {
   "cell_type": "markdown",
   "id": "BPmUDm-UEwSU",
   "metadata": {
    "id": "BPmUDm-UEwSU"
   },
   "source": [
    "# Nearest Neighbors (Brute Force Algo)"
   ]
  },
  {
   "cell_type": "code",
   "execution_count": 22,
   "id": "CSp-8BQzEqNH",
   "metadata": {
    "colab": {
     "base_uri": "https://localhost:8080/"
    },
    "id": "CSp-8BQzEqNH",
    "outputId": "b8f6fa42-3cb0-421d-8ad3-fd707324ec86"
   },
   "outputs": [
    {
     "data": {
      "text/plain": [
       "NearestNeighbors(algorithm='brute', n_jobs=-1, n_neighbors=6)"
      ]
     },
     "execution_count": 22,
     "metadata": {},
     "output_type": "execute_result"
    }
   ],
   "source": [
    "# Fit on DTM\n",
    "nn = NearestNeighbors(n_neighbors=6, algorithm= 'brute', n_jobs = -1)\n",
    "nn.fit(df_train)"
   ]
  },
  {
   "cell_type": "code",
   "execution_count": 23,
   "id": "2WpT82goGf9c",
   "metadata": {
    "colab": {
     "base_uri": "https://localhost:8080/"
    },
    "id": "2WpT82goGf9c",
    "outputId": "2225c84e-f32c-45dd-ee53-405d6c2228be"
   },
   "outputs": [
    {
     "name": "stdout",
     "output_type": "stream",
     "text": [
      "[[0.         0.26015085 0.2689481  0.30354453 0.30689897 0.30924778]]\n",
      "[[1126175  235491  960438  851759  617669  673143]]\n"
     ]
    }
   ],
   "source": [
    "# sample a doc from dtm to use as our query point \n",
    "doc_index = 1126175\n",
    "doc = [df_train.iloc[doc_index].values]\n",
    "\n",
    "# Query Using kneighbors \n",
    "neigh_dist, neigh_index = nn.kneighbors(doc)\n",
    "\n",
    "print(neigh_dist)\n",
    "print(neigh_index)"
   ]
  },
  {
   "cell_type": "markdown",
   "id": "WYeWW_ZAtxTa",
   "metadata": {
    "id": "WYeWW_ZAtxTa"
   },
   "source": [
    "# Pickle the Model"
   ]
  },
  {
   "cell_type": "code",
   "execution_count": 24,
   "id": "tgE03cnDtLe7",
   "metadata": {
    "id": "tgE03cnDtLe7"
   },
   "outputs": [],
   "source": [
    "model_filename = 'knn_model.joblib' \n",
    "joblib.dump(nn, open(model_filename, 'wb'), compress=True)"
   ]
  }
 ],
 "metadata": {
  "accelerator": "TPU",
  "colab": {
   "collapsed_sections": [],
   "machine_shape": "hm",
   "name": "Spotify_Final_Model.ipynb",
   "provenance": []
  },
  "kernelspec": {
   "display_name": "Python 3 (ipykernel)",
   "language": "python",
   "name": "python3"
  },
  "language_info": {
   "codemirror_mode": {
    "name": "ipython",
    "version": 3
   },
   "file_extension": ".py",
   "mimetype": "text/x-python",
   "name": "python",
   "nbconvert_exporter": "python",
   "pygments_lexer": "ipython3",
   "version": "3.9.6"
  }
 },
 "nbformat": 4,
 "nbformat_minor": 5
}
