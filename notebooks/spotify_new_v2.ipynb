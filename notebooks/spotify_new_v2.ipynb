{
 "cells": [
  {
   "cell_type": "code",
   "execution_count": 118,
   "id": "4539b835",
   "metadata": {},
   "outputs": [],
   "source": [
    "import sys\n",
    "import itertools\n",
    "import numpy as np \n",
    "import pandas as pd\n",
    "import re\n",
    "import sklearn\n",
    "from sklearn.feature_extraction.text import TfidfVectorizer\n",
    "from sklearn.metrics.pairwise import cosine_similarity\n",
    "from sklearn.preprocessing import OneHotEncoder\n",
    "from sklearn.preprocessing import MinMaxScaler\n",
    "from sklearn.neighbors import NearestNeighbors\n",
    "import matplotlib.pyplot as plt\n",
    "from feature_engine.encoding import OneHotEncoder as fe_OneHotEncoder\n",
    "#from pandas_profiling import ProfileReport"
   ]
  },
  {
   "cell_type": "code",
   "execution_count": 2,
   "id": "47ec2d4d",
   "metadata": {},
   "outputs": [],
   "source": [
    "df = pd.read_csv('tracks_features.csv')"
   ]
  },
  {
   "cell_type": "code",
   "execution_count": 3,
   "id": "03632cf8",
   "metadata": {},
   "outputs": [
    {
     "data": {
      "text/plain": [
       "\"['2d0hyoQ5ynDBnkvAbJKORj']\""
      ]
     },
     "execution_count": 3,
     "metadata": {},
     "output_type": "execute_result"
    }
   ],
   "source": [
    "df['artist_ids'].values[0]"
   ]
  },
  {
   "cell_type": "code",
   "execution_count": 4,
   "id": "8367e33e",
   "metadata": {},
   "outputs": [],
   "source": [
    "df['artist_ids'] = df['artist_ids'].apply(lambda x: re.findall(r\"'([^']*)'\", x))"
   ]
  },
  {
   "cell_type": "code",
   "execution_count": 5,
   "id": "5d2a6695",
   "metadata": {},
   "outputs": [
    {
     "data": {
      "text/plain": [
       "['2d0hyoQ5ynDBnkvAbJKORj']"
      ]
     },
     "execution_count": 5,
     "metadata": {},
     "output_type": "execute_result"
    }
   ],
   "source": [
    "df['artist_ids'].values[0]"
   ]
  },
  {
   "cell_type": "code",
   "execution_count": 6,
   "id": "d2838e8c",
   "metadata": {},
   "outputs": [],
   "source": [
    "df['artist_ids'] = df['artist_ids'].apply(lambda x: \"\".join(x))"
   ]
  },
  {
   "cell_type": "code",
   "execution_count": 7,
   "id": "07c55f13",
   "metadata": {},
   "outputs": [],
   "source": [
    "df['artist_ids'].values[0];"
   ]
  },
  {
   "cell_type": "code",
   "execution_count": 8,
   "id": "eaf1ffec",
   "metadata": {},
   "outputs": [],
   "source": [
    "df1 = pd.read_csv('artist_genres.csv')"
   ]
  },
  {
   "cell_type": "code",
   "execution_count": 9,
   "id": "0c266c24",
   "metadata": {},
   "outputs": [],
   "source": [
    "df1['ID'].values[0];"
   ]
  },
  {
   "cell_type": "code",
   "execution_count": 10,
   "id": "3744b3b3",
   "metadata": {},
   "outputs": [],
   "source": [
    "df1.drop('Unnamed: 0', axis = 1,inplace = True)"
   ]
  },
  {
   "cell_type": "code",
   "execution_count": 11,
   "id": "c891fd82",
   "metadata": {},
   "outputs": [],
   "source": [
    "df3 = df.merge(df1, how=\"left\",left_on = 'artist_ids', right_on = 'ID')"
   ]
  },
  {
   "cell_type": "code",
   "execution_count": 12,
   "id": "53e10e53",
   "metadata": {},
   "outputs": [
    {
     "data": {
      "text/plain": [
       "(1204025, 26)"
      ]
     },
     "execution_count": 12,
     "metadata": {},
     "output_type": "execute_result"
    }
   ],
   "source": [
    "df3.shape"
   ]
  },
  {
   "cell_type": "code",
   "execution_count": 13,
   "id": "d0d10359",
   "metadata": {},
   "outputs": [
    {
     "data": {
      "text/plain": [
       "'['"
      ]
     },
     "execution_count": 13,
     "metadata": {},
     "output_type": "execute_result"
    }
   ],
   "source": [
    "df3.Genres.values[0][0]"
   ]
  },
  {
   "cell_type": "code",
   "execution_count": 14,
   "id": "79f513e8",
   "metadata": {},
   "outputs": [],
   "source": [
    "def explicit_converter(x):\n",
    "    if x:\n",
    "        return 1 \n",
    "    else:\n",
    "        return 0"
   ]
  },
  {
   "cell_type": "code",
   "execution_count": 16,
   "id": "6ac9f919",
   "metadata": {},
   "outputs": [],
   "source": [
    "def decade_function(x):\n",
    "    if x in range(1900,1991):\n",
    "        return '1900-1990'\n",
    "    elif x in range(1991,1996):\n",
    "        return '1991-1995'\n",
    "    elif x in range(1996,2001):\n",
    "        return '1996-2000'\n",
    "    elif x in range(2001,2006):\n",
    "        return '2001-2005'\n",
    "    elif x == 2006:\n",
    "        return '2006' \n",
    "    elif x == 2007:\n",
    "        return '2007'\n",
    "    elif x == 2008:\n",
    "        return '2008'\n",
    "    elif x == 2009:\n",
    "        return '2009'\n",
    "    elif x == 2010:\n",
    "        return '2010'\n",
    "    elif x == 2011:\n",
    "        return '2011'\n",
    "    elif x == 2012:\n",
    "        return '2012'\n",
    "    elif x == 2013:\n",
    "        return '2013'\n",
    "    elif x == 2014:\n",
    "        return '2014'\n",
    "    elif x == 2015:\n",
    "        return '2015'\n",
    "    elif x == 2016:\n",
    "        return '2016'\n",
    "    elif x == 2017:\n",
    "        return '2017'\n",
    "    elif x == 2018:\n",
    "        return '2018'\n",
    "    elif x == 2019:\n",
    "        return '2019'\n",
    "    elif x == 2020:\n",
    "        return '2020'\n",
    "    elif x == 2021:\n",
    "        return '2021'\n",
    "        "
   ]
  },
  {
   "cell_type": "code",
   "execution_count": 17,
   "id": "eccda27a",
   "metadata": {},
   "outputs": [],
   "source": [
    "def wrangle(df3):\n",
    "    df3['artists_new'] = df3['artists'].apply(lambda x: re.findall(r\"'([^']*)'\", x))\n",
    "    df3['artists_new2'] = df3['artists'].apply(lambda x: re.findall('\\\"(.*?)\\\"',x))\n",
    "    df3['artists_final'] = np.where(df3['artists_new'].apply(lambda x: not x), df3['artists_new2'], df3['artists_new'])\n",
    "    df3['artists_song'] = df3.apply(lambda row: row['artists_final'][0]+row['name'],axis = 1)\n",
    "    df3.drop_duplicates('artists_song',inplace = True)\n",
    "    cols_to_drop = ['id', 'album_id','artists', 'artist_ids', 'track_number', 'disc_number', 'release_date', 'ID', 'artists_new', 'artists_new2', 'artists_song', 'duration_ms']\n",
    "    df3.drop(columns = cols_to_drop, inplace = True)\n",
    "    df3['Genres'] = df3['Genres'].apply(lambda x: [re.sub(' ','_',i) for i in re.findall(r\"'([^']*)'\", str(x))]) \n",
    "    df3['explicit'] = df3['explicit'].apply(explicit_converter)\n",
    "    df3.rename(columns={\"Genres\": \"genres\"}, inplace = True)\n",
    "    df3['year'] = df3['year'].replace(0, np.nan)\n",
    "    df3.dropna(subset = ['year'], inplace = True)\n",
    "    return df3"
   ]
  },
  {
   "cell_type": "code",
   "execution_count": 18,
   "id": "0975f7a5",
   "metadata": {},
   "outputs": [
    {
     "data": {
      "text/html": [
       "<div>\n",
       "<style scoped>\n",
       "    .dataframe tbody tr th:only-of-type {\n",
       "        vertical-align: middle;\n",
       "    }\n",
       "\n",
       "    .dataframe tbody tr th {\n",
       "        vertical-align: top;\n",
       "    }\n",
       "\n",
       "    .dataframe thead th {\n",
       "        text-align: right;\n",
       "    }\n",
       "</style>\n",
       "<table border=\"1\" class=\"dataframe\">\n",
       "  <thead>\n",
       "    <tr style=\"text-align: right;\">\n",
       "      <th></th>\n",
       "      <th>name</th>\n",
       "      <th>album</th>\n",
       "      <th>explicit</th>\n",
       "      <th>danceability</th>\n",
       "      <th>energy</th>\n",
       "      <th>key</th>\n",
       "      <th>loudness</th>\n",
       "      <th>mode</th>\n",
       "      <th>speechiness</th>\n",
       "      <th>acousticness</th>\n",
       "      <th>instrumentalness</th>\n",
       "      <th>liveness</th>\n",
       "      <th>valence</th>\n",
       "      <th>tempo</th>\n",
       "      <th>time_signature</th>\n",
       "      <th>year</th>\n",
       "      <th>genres</th>\n",
       "      <th>artists_final</th>\n",
       "    </tr>\n",
       "  </thead>\n",
       "  <tbody>\n",
       "    <tr>\n",
       "      <th>0</th>\n",
       "      <td>Testify</td>\n",
       "      <td>The Battle Of Los Angeles</td>\n",
       "      <td>0</td>\n",
       "      <td>0.470</td>\n",
       "      <td>0.978</td>\n",
       "      <td>7</td>\n",
       "      <td>-5.399</td>\n",
       "      <td>1</td>\n",
       "      <td>0.0727</td>\n",
       "      <td>0.02610</td>\n",
       "      <td>0.000011</td>\n",
       "      <td>0.3560</td>\n",
       "      <td>0.503</td>\n",
       "      <td>117.906</td>\n",
       "      <td>4.0</td>\n",
       "      <td>1999.0</td>\n",
       "      <td>[alternative_metal, alternative_rock, consciou...</td>\n",
       "      <td>[Rage Against The Machine]</td>\n",
       "    </tr>\n",
       "    <tr>\n",
       "      <th>1</th>\n",
       "      <td>Guerrilla Radio</td>\n",
       "      <td>The Battle Of Los Angeles</td>\n",
       "      <td>1</td>\n",
       "      <td>0.599</td>\n",
       "      <td>0.957</td>\n",
       "      <td>11</td>\n",
       "      <td>-5.764</td>\n",
       "      <td>1</td>\n",
       "      <td>0.1880</td>\n",
       "      <td>0.01290</td>\n",
       "      <td>0.000071</td>\n",
       "      <td>0.1550</td>\n",
       "      <td>0.489</td>\n",
       "      <td>103.680</td>\n",
       "      <td>4.0</td>\n",
       "      <td>1999.0</td>\n",
       "      <td>[alternative_metal, alternative_rock, consciou...</td>\n",
       "      <td>[Rage Against The Machine]</td>\n",
       "    </tr>\n",
       "    <tr>\n",
       "      <th>2</th>\n",
       "      <td>Calm Like a Bomb</td>\n",
       "      <td>The Battle Of Los Angeles</td>\n",
       "      <td>0</td>\n",
       "      <td>0.315</td>\n",
       "      <td>0.970</td>\n",
       "      <td>7</td>\n",
       "      <td>-5.424</td>\n",
       "      <td>1</td>\n",
       "      <td>0.4830</td>\n",
       "      <td>0.02340</td>\n",
       "      <td>0.000002</td>\n",
       "      <td>0.1220</td>\n",
       "      <td>0.370</td>\n",
       "      <td>149.749</td>\n",
       "      <td>4.0</td>\n",
       "      <td>1999.0</td>\n",
       "      <td>[alternative_metal, alternative_rock, consciou...</td>\n",
       "      <td>[Rage Against The Machine]</td>\n",
       "    </tr>\n",
       "    <tr>\n",
       "      <th>3</th>\n",
       "      <td>Mic Check</td>\n",
       "      <td>The Battle Of Los Angeles</td>\n",
       "      <td>1</td>\n",
       "      <td>0.440</td>\n",
       "      <td>0.967</td>\n",
       "      <td>11</td>\n",
       "      <td>-5.830</td>\n",
       "      <td>0</td>\n",
       "      <td>0.2370</td>\n",
       "      <td>0.16300</td>\n",
       "      <td>0.000004</td>\n",
       "      <td>0.1210</td>\n",
       "      <td>0.574</td>\n",
       "      <td>96.752</td>\n",
       "      <td>4.0</td>\n",
       "      <td>1999.0</td>\n",
       "      <td>[alternative_metal, alternative_rock, consciou...</td>\n",
       "      <td>[Rage Against The Machine]</td>\n",
       "    </tr>\n",
       "    <tr>\n",
       "      <th>4</th>\n",
       "      <td>Sleep Now In the Fire</td>\n",
       "      <td>The Battle Of Los Angeles</td>\n",
       "      <td>0</td>\n",
       "      <td>0.426</td>\n",
       "      <td>0.929</td>\n",
       "      <td>2</td>\n",
       "      <td>-6.729</td>\n",
       "      <td>1</td>\n",
       "      <td>0.0701</td>\n",
       "      <td>0.00162</td>\n",
       "      <td>0.105000</td>\n",
       "      <td>0.0789</td>\n",
       "      <td>0.539</td>\n",
       "      <td>127.059</td>\n",
       "      <td>4.0</td>\n",
       "      <td>1999.0</td>\n",
       "      <td>[alternative_metal, alternative_rock, consciou...</td>\n",
       "      <td>[Rage Against The Machine]</td>\n",
       "    </tr>\n",
       "    <tr>\n",
       "      <th>...</th>\n",
       "      <td>...</td>\n",
       "      <td>...</td>\n",
       "      <td>...</td>\n",
       "      <td>...</td>\n",
       "      <td>...</td>\n",
       "      <td>...</td>\n",
       "      <td>...</td>\n",
       "      <td>...</td>\n",
       "      <td>...</td>\n",
       "      <td>...</td>\n",
       "      <td>...</td>\n",
       "      <td>...</td>\n",
       "      <td>...</td>\n",
       "      <td>...</td>\n",
       "      <td>...</td>\n",
       "      <td>...</td>\n",
       "      <td>...</td>\n",
       "      <td>...</td>\n",
       "    </tr>\n",
       "    <tr>\n",
       "      <th>1204020</th>\n",
       "      <td>Gospel of Juke</td>\n",
       "      <td>Notch - EP</td>\n",
       "      <td>0</td>\n",
       "      <td>0.264</td>\n",
       "      <td>0.966</td>\n",
       "      <td>5</td>\n",
       "      <td>-6.970</td>\n",
       "      <td>0</td>\n",
       "      <td>0.0672</td>\n",
       "      <td>0.00935</td>\n",
       "      <td>0.002240</td>\n",
       "      <td>0.3370</td>\n",
       "      <td>0.415</td>\n",
       "      <td>159.586</td>\n",
       "      <td>4.0</td>\n",
       "      <td>2014.0</td>\n",
       "      <td>[slovak_electronic]</td>\n",
       "      <td>[FVLCRVM]</td>\n",
       "    </tr>\n",
       "    <tr>\n",
       "      <th>1204021</th>\n",
       "      <td>Prism Visions</td>\n",
       "      <td>Notch - EP</td>\n",
       "      <td>0</td>\n",
       "      <td>0.796</td>\n",
       "      <td>0.701</td>\n",
       "      <td>11</td>\n",
       "      <td>-6.602</td>\n",
       "      <td>0</td>\n",
       "      <td>0.0883</td>\n",
       "      <td>0.10400</td>\n",
       "      <td>0.644000</td>\n",
       "      <td>0.0749</td>\n",
       "      <td>0.781</td>\n",
       "      <td>121.980</td>\n",
       "      <td>4.0</td>\n",
       "      <td>2014.0</td>\n",
       "      <td>[slovak_electronic]</td>\n",
       "      <td>[FVLCRVM]</td>\n",
       "    </tr>\n",
       "    <tr>\n",
       "      <th>1204022</th>\n",
       "      <td>Tokyo 360</td>\n",
       "      <td>Notch - EP</td>\n",
       "      <td>0</td>\n",
       "      <td>0.785</td>\n",
       "      <td>0.796</td>\n",
       "      <td>9</td>\n",
       "      <td>-5.960</td>\n",
       "      <td>0</td>\n",
       "      <td>0.0564</td>\n",
       "      <td>0.03040</td>\n",
       "      <td>0.918000</td>\n",
       "      <td>0.0664</td>\n",
       "      <td>0.467</td>\n",
       "      <td>121.996</td>\n",
       "      <td>4.0</td>\n",
       "      <td>2014.0</td>\n",
       "      <td>[slovak_electronic]</td>\n",
       "      <td>[FVLCRVM]</td>\n",
       "    </tr>\n",
       "    <tr>\n",
       "      <th>1204023</th>\n",
       "      <td>Yummy!</td>\n",
       "      <td>Notch - EP</td>\n",
       "      <td>0</td>\n",
       "      <td>0.665</td>\n",
       "      <td>0.856</td>\n",
       "      <td>6</td>\n",
       "      <td>-6.788</td>\n",
       "      <td>0</td>\n",
       "      <td>0.0409</td>\n",
       "      <td>0.00007</td>\n",
       "      <td>0.776000</td>\n",
       "      <td>0.1170</td>\n",
       "      <td>0.227</td>\n",
       "      <td>124.986</td>\n",
       "      <td>4.0</td>\n",
       "      <td>2014.0</td>\n",
       "      <td>[slovak_electronic]</td>\n",
       "      <td>[FVLCRVM]</td>\n",
       "    </tr>\n",
       "    <tr>\n",
       "      <th>1204024</th>\n",
       "      <td>That's The Way It Is</td>\n",
       "      <td>Notch - EP</td>\n",
       "      <td>0</td>\n",
       "      <td>0.736</td>\n",
       "      <td>0.708</td>\n",
       "      <td>2</td>\n",
       "      <td>-9.279</td>\n",
       "      <td>0</td>\n",
       "      <td>0.0539</td>\n",
       "      <td>0.01680</td>\n",
       "      <td>0.296000</td>\n",
       "      <td>0.2790</td>\n",
       "      <td>0.204</td>\n",
       "      <td>117.991</td>\n",
       "      <td>4.0</td>\n",
       "      <td>2014.0</td>\n",
       "      <td>[slovak_electronic]</td>\n",
       "      <td>[FVLCRVM]</td>\n",
       "    </tr>\n",
       "  </tbody>\n",
       "</table>\n",
       "<p>1126176 rows × 18 columns</p>\n",
       "</div>"
      ],
      "text/plain": [
       "                          name                      album  explicit  \\\n",
       "0                      Testify  The Battle Of Los Angeles         0   \n",
       "1              Guerrilla Radio  The Battle Of Los Angeles         1   \n",
       "2             Calm Like a Bomb  The Battle Of Los Angeles         0   \n",
       "3                    Mic Check  The Battle Of Los Angeles         1   \n",
       "4        Sleep Now In the Fire  The Battle Of Los Angeles         0   \n",
       "...                        ...                        ...       ...   \n",
       "1204020         Gospel of Juke                 Notch - EP         0   \n",
       "1204021          Prism Visions                 Notch - EP         0   \n",
       "1204022              Tokyo 360                 Notch - EP         0   \n",
       "1204023                 Yummy!                 Notch - EP         0   \n",
       "1204024   That's The Way It Is                 Notch - EP         0   \n",
       "\n",
       "         danceability  energy  key  loudness  mode  speechiness  acousticness  \\\n",
       "0               0.470   0.978    7    -5.399     1       0.0727       0.02610   \n",
       "1               0.599   0.957   11    -5.764     1       0.1880       0.01290   \n",
       "2               0.315   0.970    7    -5.424     1       0.4830       0.02340   \n",
       "3               0.440   0.967   11    -5.830     0       0.2370       0.16300   \n",
       "4               0.426   0.929    2    -6.729     1       0.0701       0.00162   \n",
       "...               ...     ...  ...       ...   ...          ...           ...   \n",
       "1204020         0.264   0.966    5    -6.970     0       0.0672       0.00935   \n",
       "1204021         0.796   0.701   11    -6.602     0       0.0883       0.10400   \n",
       "1204022         0.785   0.796    9    -5.960     0       0.0564       0.03040   \n",
       "1204023         0.665   0.856    6    -6.788     0       0.0409       0.00007   \n",
       "1204024         0.736   0.708    2    -9.279     0       0.0539       0.01680   \n",
       "\n",
       "         instrumentalness  liveness  valence    tempo  time_signature    year  \\\n",
       "0                0.000011    0.3560    0.503  117.906             4.0  1999.0   \n",
       "1                0.000071    0.1550    0.489  103.680             4.0  1999.0   \n",
       "2                0.000002    0.1220    0.370  149.749             4.0  1999.0   \n",
       "3                0.000004    0.1210    0.574   96.752             4.0  1999.0   \n",
       "4                0.105000    0.0789    0.539  127.059             4.0  1999.0   \n",
       "...                   ...       ...      ...      ...             ...     ...   \n",
       "1204020          0.002240    0.3370    0.415  159.586             4.0  2014.0   \n",
       "1204021          0.644000    0.0749    0.781  121.980             4.0  2014.0   \n",
       "1204022          0.918000    0.0664    0.467  121.996             4.0  2014.0   \n",
       "1204023          0.776000    0.1170    0.227  124.986             4.0  2014.0   \n",
       "1204024          0.296000    0.2790    0.204  117.991             4.0  2014.0   \n",
       "\n",
       "                                                    genres  \\\n",
       "0        [alternative_metal, alternative_rock, consciou...   \n",
       "1        [alternative_metal, alternative_rock, consciou...   \n",
       "2        [alternative_metal, alternative_rock, consciou...   \n",
       "3        [alternative_metal, alternative_rock, consciou...   \n",
       "4        [alternative_metal, alternative_rock, consciou...   \n",
       "...                                                    ...   \n",
       "1204020                                [slovak_electronic]   \n",
       "1204021                                [slovak_electronic]   \n",
       "1204022                                [slovak_electronic]   \n",
       "1204023                                [slovak_electronic]   \n",
       "1204024                                [slovak_electronic]   \n",
       "\n",
       "                      artists_final  \n",
       "0        [Rage Against The Machine]  \n",
       "1        [Rage Against The Machine]  \n",
       "2        [Rage Against The Machine]  \n",
       "3        [Rage Against The Machine]  \n",
       "4        [Rage Against The Machine]  \n",
       "...                             ...  \n",
       "1204020                   [FVLCRVM]  \n",
       "1204021                   [FVLCRVM]  \n",
       "1204022                   [FVLCRVM]  \n",
       "1204023                   [FVLCRVM]  \n",
       "1204024                   [FVLCRVM]  \n",
       "\n",
       "[1126176 rows x 18 columns]"
      ]
     },
     "execution_count": 18,
     "metadata": {},
     "output_type": "execute_result"
    }
   ],
   "source": [
    "wrangle(df3)"
   ]
  },
  {
   "cell_type": "code",
   "execution_count": 19,
   "id": "03389220",
   "metadata": {},
   "outputs": [
    {
     "data": {
      "text/plain": [
       "(1204025, 24)"
      ]
     },
     "execution_count": 19,
     "metadata": {},
     "output_type": "execute_result"
    }
   ],
   "source": [
    "df.shape"
   ]
  },
  {
   "cell_type": "code",
   "execution_count": 20,
   "id": "4a5db74e",
   "metadata": {},
   "outputs": [],
   "source": [
    "df4 = df3[~df3['genres'].str.len().eq(0)]"
   ]
  },
  {
   "cell_type": "code",
   "execution_count": 21,
   "id": "d9be00a9",
   "metadata": {},
   "outputs": [
    {
     "data": {
      "text/plain": [
       "(558575, 18)"
      ]
     },
     "execution_count": 21,
     "metadata": {},
     "output_type": "execute_result"
    }
   ],
   "source": [
    "df4.shape"
   ]
  },
  {
   "cell_type": "code",
   "execution_count": 127,
   "id": "ca432e5b",
   "metadata": {},
   "outputs": [],
   "source": [
    "df4.to_csv('spotify_clean_v3.csv')"
   ]
  },
  {
   "cell_type": "code",
   "execution_count": 23,
   "id": "25686d1b",
   "metadata": {},
   "outputs": [],
   "source": [
    "float_cols = df4.dtypes[df4.dtypes == 'float64'].index.values\n"
   ]
  },
  {
   "cell_type": "code",
   "execution_count": 24,
   "id": "b5dfc198",
   "metadata": {},
   "outputs": [
    {
     "name": "stderr",
     "output_type": "stream",
     "text": [
      "<ipython-input-24-bf52b0787dc0>:1: SettingWithCopyWarning: \n",
      "A value is trying to be set on a copy of a slice from a DataFrame.\n",
      "Try using .loc[row_indexer,col_indexer] = value instead\n",
      "\n",
      "See the caveats in the documentation: https://pandas.pydata.org/pandas-docs/stable/user_guide/indexing.html#returning-a-view-versus-a-copy\n",
      "  df4['age'] = df4['year'].apply(np.int64)\n"
     ]
    }
   ],
   "source": [
    "df4['age'] = df4['year'].apply(np.int64)"
   ]
  },
  {
   "cell_type": "code",
   "execution_count": 25,
   "id": "e65e2809",
   "metadata": {},
   "outputs": [
    {
     "name": "stderr",
     "output_type": "stream",
     "text": [
      "<ipython-input-25-115a0c2e1805>:1: SettingWithCopyWarning: \n",
      "A value is trying to be set on a copy of a slice from a DataFrame.\n",
      "Try using .loc[row_indexer,col_indexer] = value instead\n",
      "\n",
      "See the caveats in the documentation: https://pandas.pydata.org/pandas-docs/stable/user_guide/indexing.html#returning-a-view-versus-a-copy\n",
      "  df4['age'] = df4['age'].apply(decade_function)\n"
     ]
    }
   ],
   "source": [
    "df4['age'] = df4['age'].apply(decade_function)"
   ]
  },
  {
   "cell_type": "code",
   "execution_count": 26,
   "id": "5b698505",
   "metadata": {},
   "outputs": [
    {
     "data": {
      "text/plain": [
       "OneHotEncoder(drop_last=True, variables=['age'])"
      ]
     },
     "execution_count": 26,
     "metadata": {},
     "output_type": "execute_result"
    }
   ],
   "source": [
    "ohe_enc = fe_OneHotEncoder(\n",
    "    top_categories=None,\n",
    "    variables=['age'], drop_last=True)  # to return k-1, false to return k\n",
    "\n",
    "\n",
    "ohe_enc.fit(df4.fillna('Missing'))"
   ]
  },
  {
   "cell_type": "code",
   "execution_count": 27,
   "id": "7a041a94",
   "metadata": {},
   "outputs": [],
   "source": [
    "df4 = ohe_enc.transform(df4.fillna('Missing'))"
   ]
  },
  {
   "cell_type": "code",
   "execution_count": 28,
   "id": "98766512",
   "metadata": {},
   "outputs": [
    {
     "data": {
      "text/plain": [
       "(558575, 36)"
      ]
     },
     "execution_count": 28,
     "metadata": {},
     "output_type": "execute_result"
    }
   ],
   "source": [
    "df4.shape"
   ]
  },
  {
   "cell_type": "code",
   "execution_count": 29,
   "id": "8df52499",
   "metadata": {},
   "outputs": [],
   "source": [
    "df4.loc[:, 'genres_1'] = df4.genres.map(lambda x: [x[0]]) #experiment "
   ]
  },
  {
   "cell_type": "code",
   "execution_count": 30,
   "id": "4a8ddcef",
   "metadata": {},
   "outputs": [
    {
     "data": {
      "text/html": [
       "<div>\n",
       "<style scoped>\n",
       "    .dataframe tbody tr th:only-of-type {\n",
       "        vertical-align: middle;\n",
       "    }\n",
       "\n",
       "    .dataframe tbody tr th {\n",
       "        vertical-align: top;\n",
       "    }\n",
       "\n",
       "    .dataframe thead th {\n",
       "        text-align: right;\n",
       "    }\n",
       "</style>\n",
       "<table border=\"1\" class=\"dataframe\">\n",
       "  <thead>\n",
       "    <tr style=\"text-align: right;\">\n",
       "      <th></th>\n",
       "      <th>name</th>\n",
       "      <th>album</th>\n",
       "      <th>explicit</th>\n",
       "      <th>danceability</th>\n",
       "      <th>energy</th>\n",
       "      <th>key</th>\n",
       "      <th>loudness</th>\n",
       "      <th>mode</th>\n",
       "      <th>speechiness</th>\n",
       "      <th>acousticness</th>\n",
       "      <th>...</th>\n",
       "      <th>age_2011</th>\n",
       "      <th>age_2014</th>\n",
       "      <th>age_2012</th>\n",
       "      <th>age_2009</th>\n",
       "      <th>age_2013</th>\n",
       "      <th>age_2008</th>\n",
       "      <th>age_2010</th>\n",
       "      <th>age_2006</th>\n",
       "      <th>age_2017</th>\n",
       "      <th>genres_1</th>\n",
       "    </tr>\n",
       "  </thead>\n",
       "  <tbody>\n",
       "    <tr>\n",
       "      <th>0</th>\n",
       "      <td>Testify</td>\n",
       "      <td>The Battle Of Los Angeles</td>\n",
       "      <td>0</td>\n",
       "      <td>0.470</td>\n",
       "      <td>0.978</td>\n",
       "      <td>7</td>\n",
       "      <td>-5.399</td>\n",
       "      <td>1</td>\n",
       "      <td>0.0727</td>\n",
       "      <td>0.02610</td>\n",
       "      <td>...</td>\n",
       "      <td>0</td>\n",
       "      <td>0</td>\n",
       "      <td>0</td>\n",
       "      <td>0</td>\n",
       "      <td>0</td>\n",
       "      <td>0</td>\n",
       "      <td>0</td>\n",
       "      <td>0</td>\n",
       "      <td>0</td>\n",
       "      <td>[alternative_metal]</td>\n",
       "    </tr>\n",
       "    <tr>\n",
       "      <th>1</th>\n",
       "      <td>Guerrilla Radio</td>\n",
       "      <td>The Battle Of Los Angeles</td>\n",
       "      <td>1</td>\n",
       "      <td>0.599</td>\n",
       "      <td>0.957</td>\n",
       "      <td>11</td>\n",
       "      <td>-5.764</td>\n",
       "      <td>1</td>\n",
       "      <td>0.1880</td>\n",
       "      <td>0.01290</td>\n",
       "      <td>...</td>\n",
       "      <td>0</td>\n",
       "      <td>0</td>\n",
       "      <td>0</td>\n",
       "      <td>0</td>\n",
       "      <td>0</td>\n",
       "      <td>0</td>\n",
       "      <td>0</td>\n",
       "      <td>0</td>\n",
       "      <td>0</td>\n",
       "      <td>[alternative_metal]</td>\n",
       "    </tr>\n",
       "    <tr>\n",
       "      <th>2</th>\n",
       "      <td>Calm Like a Bomb</td>\n",
       "      <td>The Battle Of Los Angeles</td>\n",
       "      <td>0</td>\n",
       "      <td>0.315</td>\n",
       "      <td>0.970</td>\n",
       "      <td>7</td>\n",
       "      <td>-5.424</td>\n",
       "      <td>1</td>\n",
       "      <td>0.4830</td>\n",
       "      <td>0.02340</td>\n",
       "      <td>...</td>\n",
       "      <td>0</td>\n",
       "      <td>0</td>\n",
       "      <td>0</td>\n",
       "      <td>0</td>\n",
       "      <td>0</td>\n",
       "      <td>0</td>\n",
       "      <td>0</td>\n",
       "      <td>0</td>\n",
       "      <td>0</td>\n",
       "      <td>[alternative_metal]</td>\n",
       "    </tr>\n",
       "    <tr>\n",
       "      <th>3</th>\n",
       "      <td>Mic Check</td>\n",
       "      <td>The Battle Of Los Angeles</td>\n",
       "      <td>1</td>\n",
       "      <td>0.440</td>\n",
       "      <td>0.967</td>\n",
       "      <td>11</td>\n",
       "      <td>-5.830</td>\n",
       "      <td>0</td>\n",
       "      <td>0.2370</td>\n",
       "      <td>0.16300</td>\n",
       "      <td>...</td>\n",
       "      <td>0</td>\n",
       "      <td>0</td>\n",
       "      <td>0</td>\n",
       "      <td>0</td>\n",
       "      <td>0</td>\n",
       "      <td>0</td>\n",
       "      <td>0</td>\n",
       "      <td>0</td>\n",
       "      <td>0</td>\n",
       "      <td>[alternative_metal]</td>\n",
       "    </tr>\n",
       "    <tr>\n",
       "      <th>4</th>\n",
       "      <td>Sleep Now In the Fire</td>\n",
       "      <td>The Battle Of Los Angeles</td>\n",
       "      <td>0</td>\n",
       "      <td>0.426</td>\n",
       "      <td>0.929</td>\n",
       "      <td>2</td>\n",
       "      <td>-6.729</td>\n",
       "      <td>1</td>\n",
       "      <td>0.0701</td>\n",
       "      <td>0.00162</td>\n",
       "      <td>...</td>\n",
       "      <td>0</td>\n",
       "      <td>0</td>\n",
       "      <td>0</td>\n",
       "      <td>0</td>\n",
       "      <td>0</td>\n",
       "      <td>0</td>\n",
       "      <td>0</td>\n",
       "      <td>0</td>\n",
       "      <td>0</td>\n",
       "      <td>[alternative_metal]</td>\n",
       "    </tr>\n",
       "  </tbody>\n",
       "</table>\n",
       "<p>5 rows × 37 columns</p>\n",
       "</div>"
      ],
      "text/plain": [
       "                    name                      album  explicit  danceability  \\\n",
       "0                Testify  The Battle Of Los Angeles         0         0.470   \n",
       "1        Guerrilla Radio  The Battle Of Los Angeles         1         0.599   \n",
       "2       Calm Like a Bomb  The Battle Of Los Angeles         0         0.315   \n",
       "3              Mic Check  The Battle Of Los Angeles         1         0.440   \n",
       "4  Sleep Now In the Fire  The Battle Of Los Angeles         0         0.426   \n",
       "\n",
       "   energy  key  loudness  mode  speechiness  acousticness  ...  age_2011  \\\n",
       "0   0.978    7    -5.399     1       0.0727       0.02610  ...         0   \n",
       "1   0.957   11    -5.764     1       0.1880       0.01290  ...         0   \n",
       "2   0.970    7    -5.424     1       0.4830       0.02340  ...         0   \n",
       "3   0.967   11    -5.830     0       0.2370       0.16300  ...         0   \n",
       "4   0.929    2    -6.729     1       0.0701       0.00162  ...         0   \n",
       "\n",
       "   age_2014  age_2012  age_2009  age_2013  age_2008 age_2010 age_2006  \\\n",
       "0         0         0         0         0         0        0        0   \n",
       "1         0         0         0         0         0        0        0   \n",
       "2         0         0         0         0         0        0        0   \n",
       "3         0         0         0         0         0        0        0   \n",
       "4         0         0         0         0         0        0        0   \n",
       "\n",
       "   age_2017             genres_1  \n",
       "0         0  [alternative_metal]  \n",
       "1         0  [alternative_metal]  \n",
       "2         0  [alternative_metal]  \n",
       "3         0  [alternative_metal]  \n",
       "4         0  [alternative_metal]  \n",
       "\n",
       "[5 rows x 37 columns]"
      ]
     },
     "execution_count": 30,
     "metadata": {},
     "output_type": "execute_result"
    }
   ],
   "source": [
    "df4.head()"
   ]
  },
  {
   "cell_type": "code",
   "execution_count": 31,
   "id": "02a7cd99",
   "metadata": {},
   "outputs": [
    {
     "data": {
      "text/plain": [
       "(558575, 37)"
      ]
     },
     "execution_count": 31,
     "metadata": {},
     "output_type": "execute_result"
    }
   ],
   "source": [
    "df4.shape"
   ]
  },
  {
   "cell_type": "code",
   "execution_count": 32,
   "id": "98d2cced",
   "metadata": {},
   "outputs": [],
   "source": [
    "df4.drop(columns = ['genres'], inplace = True)"
   ]
  },
  {
   "cell_type": "code",
   "execution_count": 33,
   "id": "68c28f0e",
   "metadata": {},
   "outputs": [
    {
     "data": {
      "text/plain": [
       "(558575, 36)"
      ]
     },
     "execution_count": 33,
     "metadata": {},
     "output_type": "execute_result"
    }
   ],
   "source": [
    "df4.shape"
   ]
  },
  {
   "cell_type": "code",
   "execution_count": 34,
   "id": "5f471281",
   "metadata": {},
   "outputs": [
    {
     "data": {
      "text/plain": [
       "['alternative_metal']"
      ]
     },
     "execution_count": 34,
     "metadata": {},
     "output_type": "execute_result"
    }
   ],
   "source": [
    "df4['genres_1'].values[0]"
   ]
  },
  {
   "cell_type": "code",
   "execution_count": 35,
   "id": "22e7d6cf",
   "metadata": {},
   "outputs": [],
   "source": [
    "#creating vectorized genre features based on frequency of genre. More frequent genre = more weight\n",
    "tf_idf = TfidfVectorizer()\n",
    "tfidf_matrix =  tf_idf.fit_transform(df4['genres_1'].apply(lambda x: \" \".join(x)))\n",
    "genre_df = pd.DataFrame(tfidf_matrix.toarray())\n",
    "genre_df.columns = ['genre' + \"|\" + i for i in tf_idf.get_feature_names()]\n",
    "genre_df.reset_index(drop = True, inplace=True)"
   ]
  },
  {
   "cell_type": "code",
   "execution_count": 36,
   "id": "02f78f01",
   "metadata": {},
   "outputs": [
    {
     "data": {
      "text/plain": [
       "(558575, 3864)"
      ]
     },
     "execution_count": 36,
     "metadata": {},
     "output_type": "execute_result"
    }
   ],
   "source": [
    "genre_df.shape"
   ]
  },
  {
   "cell_type": "code",
   "execution_count": 37,
   "id": "8fa79520",
   "metadata": {},
   "outputs": [
    {
     "data": {
      "text/plain": [
       "array(['danceability', 'energy', 'loudness', 'speechiness',\n",
       "       'acousticness', 'instrumentalness', 'liveness', 'valence', 'tempo',\n",
       "       'time_signature', 'year'], dtype=object)"
      ]
     },
     "execution_count": 37,
     "metadata": {},
     "output_type": "execute_result"
    }
   ],
   "source": [
    "float_cols"
   ]
  },
  {
   "cell_type": "code",
   "execution_count": 38,
   "id": "d8be40d5",
   "metadata": {},
   "outputs": [],
   "source": [
    "float_cols = np.delete(float_cols, 10)"
   ]
  },
  {
   "cell_type": "code",
   "execution_count": 39,
   "id": "68cde967",
   "metadata": {},
   "outputs": [],
   "source": [
    "#feature scailing for float columns in df3\n",
    "floats = df4[float_cols].reset_index(drop=True)\n",
    "scaler = MinMaxScaler()\n",
    "scaled_float_df = pd.DataFrame(scaler.fit_transform(floats), columns = floats.columns)"
   ]
  },
  {
   "cell_type": "code",
   "execution_count": 40,
   "id": "fe07cdfb",
   "metadata": {},
   "outputs": [
    {
     "data": {
      "text/plain": [
       "(558575, 10)"
      ]
     },
     "execution_count": 40,
     "metadata": {},
     "output_type": "execute_result"
    }
   ],
   "source": [
    "scaled_float_df.shape"
   ]
  },
  {
   "cell_type": "code",
   "execution_count": 41,
   "id": "9e165d76",
   "metadata": {},
   "outputs": [
    {
     "data": {
      "text/plain": [
       "(558575, 36)"
      ]
     },
     "execution_count": 41,
     "metadata": {},
     "output_type": "execute_result"
    }
   ],
   "source": [
    "df4.shape"
   ]
  },
  {
   "cell_type": "code",
   "execution_count": 42,
   "id": "9ca9f7ad",
   "metadata": {},
   "outputs": [
    {
     "data": {
      "text/plain": [
       "(558575, 3864)"
      ]
     },
     "execution_count": 42,
     "metadata": {},
     "output_type": "execute_result"
    }
   ],
   "source": [
    "genre_df.shape"
   ]
  },
  {
   "cell_type": "code",
   "execution_count": 43,
   "id": "63ea0f0a",
   "metadata": {},
   "outputs": [],
   "source": [
    "dropper = ['danceability', 'energy', 'loudness', 'speechiness',\n",
    "       'acousticness', 'instrumentalness', 'liveness', 'valence', 'tempo',\n",
    "       'time_signature']"
   ]
  },
  {
   "cell_type": "code",
   "execution_count": 44,
   "id": "ad06b054",
   "metadata": {},
   "outputs": [],
   "source": [
    "df4.drop(columns = dropper, inplace = True)"
   ]
  },
  {
   "cell_type": "code",
   "execution_count": 45,
   "id": "5dc198c8",
   "metadata": {},
   "outputs": [],
   "source": [
    "df5 = pd.concat([df4, genre_df, scaled_float_df], axis = 1)"
   ]
  },
  {
   "cell_type": "code",
   "execution_count": 46,
   "id": "737ec294",
   "metadata": {},
   "outputs": [
    {
     "data": {
      "text/plain": [
       "(849620, 3900)"
      ]
     },
     "execution_count": 46,
     "metadata": {},
     "output_type": "execute_result"
    }
   ],
   "source": [
    "df5.shape"
   ]
  },
  {
   "cell_type": "code",
   "execution_count": 44,
   "id": "c812fa3c",
   "metadata": {},
   "outputs": [
    {
     "data": {
      "text/plain": [
       "Index(['name', 'album', 'explicit', 'key', 'mode', 'year', 'artists_final',\n",
       "       'age_1996-2000', 'age_1991-1995', 'age_2018',\n",
       "       ...\n",
       "       'danceability', 'energy', 'loudness', 'speechiness', 'acousticness',\n",
       "       'instrumentalness', 'liveness', 'valence', 'tempo', 'time_signature'],\n",
       "      dtype='object', length=3900)"
      ]
     },
     "execution_count": 44,
     "metadata": {},
     "output_type": "execute_result"
    }
   ],
   "source": [
    "df5.columns"
   ]
  },
  {
   "cell_type": "code",
   "execution_count": 45,
   "id": "0121e0b3",
   "metadata": {},
   "outputs": [
    {
     "data": {
      "text/plain": [
       "name                291045\n",
       "album               291045\n",
       "explicit            291045\n",
       "key                 291045\n",
       "mode                291045\n",
       "                     ...  \n",
       "instrumentalness    291045\n",
       "liveness            291045\n",
       "valence             291045\n",
       "tempo               291045\n",
       "time_signature      291045\n",
       "Length: 3900, dtype: int64"
      ]
     },
     "execution_count": 45,
     "metadata": {},
     "output_type": "execute_result"
    }
   ],
   "source": [
    "df5.isnull().sum()"
   ]
  },
  {
   "cell_type": "code",
   "execution_count": null,
   "id": "6be53132",
   "metadata": {},
   "outputs": [],
   "source": [
    "df5[df5['name'] == np.nan]"
   ]
  },
  {
   "cell_type": "code",
   "execution_count": 47,
   "id": "c8dbb365",
   "metadata": {},
   "outputs": [],
   "source": [
    "df5.dropna(subset = ['name'], inplace = True)"
   ]
  },
  {
   "cell_type": "code",
   "execution_count": 48,
   "id": "4e79a61c-fe0b-4a6a-acbc-854e002ee33c",
   "metadata": {},
   "outputs": [
    {
     "data": {
      "text/plain": [
       "name                     0\n",
       "album                    0\n",
       "explicit                 0\n",
       "key                      0\n",
       "mode                     0\n",
       "                     ...  \n",
       "instrumentalness    291045\n",
       "liveness            291045\n",
       "valence             291045\n",
       "tempo               291045\n",
       "time_signature      291045\n",
       "Length: 3900, dtype: int64"
      ]
     },
     "execution_count": 48,
     "metadata": {},
     "output_type": "execute_result"
    }
   ],
   "source": [
    "df5.isnull().sum()"
   ]
  },
  {
   "cell_type": "code",
   "execution_count": 49,
   "id": "160c8095-eea3-4d9c-bc6f-ac8d6e60f347",
   "metadata": {},
   "outputs": [
    {
     "data": {
      "text/plain": [
       "(558575, 3900)"
      ]
     },
     "execution_count": 49,
     "metadata": {},
     "output_type": "execute_result"
    }
   ],
   "source": [
    "df5.shape"
   ]
  },
  {
   "cell_type": "code",
   "execution_count": 52,
   "id": "920b70b0-b533-4c81-a296-979e67d5e466",
   "metadata": {},
   "outputs": [],
   "source": [
    "df5.dropna(subset = ['tempo'], inplace = True)"
   ]
  },
  {
   "cell_type": "code",
   "execution_count": 54,
   "id": "345277d3-999c-43ac-a7bf-f348b4205982",
   "metadata": {},
   "outputs": [
    {
     "data": {
      "text/plain": [
       "0"
      ]
     },
     "execution_count": 54,
     "metadata": {},
     "output_type": "execute_result"
    }
   ],
   "source": [
    "df5.isnull().sum().sum()"
   ]
  },
  {
   "cell_type": "code",
   "execution_count": 56,
   "id": "0844a637-519c-496d-8bcf-e751b9e3b690",
   "metadata": {},
   "outputs": [
    {
     "data": {
      "text/plain": [
       "(267530, 3900)"
      ]
     },
     "execution_count": 56,
     "metadata": {},
     "output_type": "execute_result"
    }
   ],
   "source": [
    "df5.shape"
   ]
  },
  {
   "cell_type": "code",
   "execution_count": 73,
   "id": "74737903-a49a-4654-bec8-aba1fa7ec2dc",
   "metadata": {},
   "outputs": [
    {
     "data": {
      "text/plain": [
       "0.0    0.99985\n",
       "1.0    0.00015\n",
       "Name: genre|21st_century_classical, dtype: float64"
      ]
     },
     "execution_count": 73,
     "metadata": {},
     "output_type": "execute_result"
    }
   ],
   "source": [
    " df5['genre|21st_century_classical'].value_counts(normalize = True)"
   ]
  },
  {
   "cell_type": "code",
   "execution_count": 70,
   "id": "ae0b4293-3536-43ef-b50e-b1382493284d",
   "metadata": {},
   "outputs": [],
   "source": [
    "index_list = df5.columns.tolist()"
   ]
  },
  {
   "cell_type": "code",
   "execution_count": 74,
   "id": "0b492094-de0b-472c-8f33-0c2a3ba60ec0",
   "metadata": {},
   "outputs": [],
   "source": [
    "index_list;"
   ]
  },
  {
   "cell_type": "code",
   "execution_count": 78,
   "id": "72395802-75a5-4f1b-9d94-3c2ccc8a9753",
   "metadata": {},
   "outputs": [],
   "source": [
    "thresh = df5['genres_1'].value_counts(normalize = True) > 0.000015"
   ]
  },
  {
   "cell_type": "code",
   "execution_count": 79,
   "id": "b0321243-2680-4169-9ee8-8e958cd37070",
   "metadata": {},
   "outputs": [
    {
     "data": {
      "text/plain": [
       "True     0.862241\n",
       "False    0.137759\n",
       "Name: genres_1, dtype: float64"
      ]
     },
     "execution_count": 79,
     "metadata": {},
     "output_type": "execute_result"
    }
   ],
   "source": [
    "thresh.value_counts(normalize = True)"
   ]
  },
  {
   "cell_type": "code",
   "execution_count": 104,
   "id": "7dced5b2-6674-49ca-a2b3-ee78ca2a3823",
   "metadata": {},
   "outputs": [],
   "source": [
    "def drop_nan_col( df, threshold): \n",
    "    #threshold = threshold\n",
    "    #df = df\n",
    "    for i in df.columns:\n",
    "        x = (df[i]==1.0).sum()\n",
    "        y = (df[i]==0.0).sum()\n",
    "        if (x/(x+y)) > threshold:\n",
    "            df = df.drop(i, axis=1)"
   ]
  },
  {
   "cell_type": "code",
   "execution_count": 86,
   "id": "759fdc33-322c-4a5f-af04-b04b2de9a102",
   "metadata": {},
   "outputs": [],
   "source": [
    " example = (df5['genre|21st_century_classical'] == 0.0).sum()"
   ]
  },
  {
   "cell_type": "code",
   "execution_count": 87,
   "id": "5e2bfc21-f875-4538-bde9-0f8e8b85495f",
   "metadata": {},
   "outputs": [],
   "source": [
    "example1 = (df5['genre|21st_century_classical'] == 1.0).sum()"
   ]
  },
  {
   "cell_type": "code",
   "execution_count": 88,
   "id": "fca65d74-364d-48b8-af53-5eb2c796c832",
   "metadata": {},
   "outputs": [
    {
     "data": {
      "text/plain": [
       "267490"
      ]
     },
     "execution_count": 88,
     "metadata": {},
     "output_type": "execute_result"
    }
   ],
   "source": [
    "example"
   ]
  },
  {
   "cell_type": "code",
   "execution_count": 89,
   "id": "be3795d6-19dd-4779-a31d-650168a5f053",
   "metadata": {},
   "outputs": [
    {
     "data": {
      "text/plain": [
       "40"
      ]
     },
     "execution_count": 89,
     "metadata": {},
     "output_type": "execute_result"
    }
   ],
   "source": [
    "example1"
   ]
  },
  {
   "cell_type": "code",
   "execution_count": 90,
   "id": "0b5ab81f-6be4-49f5-a24b-c68bd21f2dde",
   "metadata": {},
   "outputs": [
    {
     "data": {
      "text/plain": [
       "0.00014951594213733038"
      ]
     },
     "execution_count": 90,
     "metadata": {},
     "output_type": "execute_result"
    }
   ],
   "source": [
    "example1/(example + example1)"
   ]
  },
  {
   "cell_type": "code",
   "execution_count": 91,
   "id": "f6171443-a497-4e5a-932d-d527ef8530a3",
   "metadata": {},
   "outputs": [
    {
     "data": {
      "text/html": [
       "<div>\n",
       "<style scoped>\n",
       "    .dataframe tbody tr th:only-of-type {\n",
       "        vertical-align: middle;\n",
       "    }\n",
       "\n",
       "    .dataframe tbody tr th {\n",
       "        vertical-align: top;\n",
       "    }\n",
       "\n",
       "    .dataframe thead th {\n",
       "        text-align: right;\n",
       "    }\n",
       "</style>\n",
       "<table border=\"1\" class=\"dataframe\">\n",
       "  <thead>\n",
       "    <tr style=\"text-align: right;\">\n",
       "      <th></th>\n",
       "      <th>genre|21st_century_classical</th>\n",
       "      <th>genre|48g</th>\n",
       "      <th>genre|5th_wave_emo</th>\n",
       "      <th>genre|_brasileira</th>\n",
       "      <th>genre|_hip_hop</th>\n",
       "      <th>genre|a_cappella</th>\n",
       "      <th>genre|aarhus_indie</th>\n",
       "      <th>genre|aberdeen_indie</th>\n",
       "      <th>genre|abstract</th>\n",
       "      <th>genre|abstract_beats</th>\n",
       "      <th>...</th>\n",
       "      <th>genre|zenonesque</th>\n",
       "      <th>genre|zeuhl</th>\n",
       "      <th>genre|zim_urban_groove</th>\n",
       "      <th>genre|zimdancehall</th>\n",
       "      <th>genre|zolo</th>\n",
       "      <th>genre|zouglou</th>\n",
       "      <th>genre|zouk</th>\n",
       "      <th>genre|zouk_riddim</th>\n",
       "      <th>genre|zurich_indie</th>\n",
       "      <th>genre|zydeco</th>\n",
       "    </tr>\n",
       "  </thead>\n",
       "  <tbody>\n",
       "    <tr>\n",
       "      <th>0</th>\n",
       "      <td>0.0</td>\n",
       "      <td>0.0</td>\n",
       "      <td>0.0</td>\n",
       "      <td>0.0</td>\n",
       "      <td>0.0</td>\n",
       "      <td>0.0</td>\n",
       "      <td>0.0</td>\n",
       "      <td>0.0</td>\n",
       "      <td>0.0</td>\n",
       "      <td>0.0</td>\n",
       "      <td>...</td>\n",
       "      <td>0.0</td>\n",
       "      <td>0.0</td>\n",
       "      <td>0.0</td>\n",
       "      <td>0.0</td>\n",
       "      <td>0.0</td>\n",
       "      <td>0.0</td>\n",
       "      <td>0.0</td>\n",
       "      <td>0.0</td>\n",
       "      <td>0.0</td>\n",
       "      <td>0.0</td>\n",
       "    </tr>\n",
       "    <tr>\n",
       "      <th>1</th>\n",
       "      <td>0.0</td>\n",
       "      <td>0.0</td>\n",
       "      <td>0.0</td>\n",
       "      <td>0.0</td>\n",
       "      <td>0.0</td>\n",
       "      <td>0.0</td>\n",
       "      <td>0.0</td>\n",
       "      <td>0.0</td>\n",
       "      <td>0.0</td>\n",
       "      <td>0.0</td>\n",
       "      <td>...</td>\n",
       "      <td>0.0</td>\n",
       "      <td>0.0</td>\n",
       "      <td>0.0</td>\n",
       "      <td>0.0</td>\n",
       "      <td>0.0</td>\n",
       "      <td>0.0</td>\n",
       "      <td>0.0</td>\n",
       "      <td>0.0</td>\n",
       "      <td>0.0</td>\n",
       "      <td>0.0</td>\n",
       "    </tr>\n",
       "    <tr>\n",
       "      <th>2</th>\n",
       "      <td>0.0</td>\n",
       "      <td>0.0</td>\n",
       "      <td>0.0</td>\n",
       "      <td>0.0</td>\n",
       "      <td>0.0</td>\n",
       "      <td>0.0</td>\n",
       "      <td>0.0</td>\n",
       "      <td>0.0</td>\n",
       "      <td>0.0</td>\n",
       "      <td>0.0</td>\n",
       "      <td>...</td>\n",
       "      <td>0.0</td>\n",
       "      <td>0.0</td>\n",
       "      <td>0.0</td>\n",
       "      <td>0.0</td>\n",
       "      <td>0.0</td>\n",
       "      <td>0.0</td>\n",
       "      <td>0.0</td>\n",
       "      <td>0.0</td>\n",
       "      <td>0.0</td>\n",
       "      <td>0.0</td>\n",
       "    </tr>\n",
       "    <tr>\n",
       "      <th>3</th>\n",
       "      <td>0.0</td>\n",
       "      <td>0.0</td>\n",
       "      <td>0.0</td>\n",
       "      <td>0.0</td>\n",
       "      <td>0.0</td>\n",
       "      <td>0.0</td>\n",
       "      <td>0.0</td>\n",
       "      <td>0.0</td>\n",
       "      <td>0.0</td>\n",
       "      <td>0.0</td>\n",
       "      <td>...</td>\n",
       "      <td>0.0</td>\n",
       "      <td>0.0</td>\n",
       "      <td>0.0</td>\n",
       "      <td>0.0</td>\n",
       "      <td>0.0</td>\n",
       "      <td>0.0</td>\n",
       "      <td>0.0</td>\n",
       "      <td>0.0</td>\n",
       "      <td>0.0</td>\n",
       "      <td>0.0</td>\n",
       "    </tr>\n",
       "    <tr>\n",
       "      <th>4</th>\n",
       "      <td>0.0</td>\n",
       "      <td>0.0</td>\n",
       "      <td>0.0</td>\n",
       "      <td>0.0</td>\n",
       "      <td>0.0</td>\n",
       "      <td>0.0</td>\n",
       "      <td>0.0</td>\n",
       "      <td>0.0</td>\n",
       "      <td>0.0</td>\n",
       "      <td>0.0</td>\n",
       "      <td>...</td>\n",
       "      <td>0.0</td>\n",
       "      <td>0.0</td>\n",
       "      <td>0.0</td>\n",
       "      <td>0.0</td>\n",
       "      <td>0.0</td>\n",
       "      <td>0.0</td>\n",
       "      <td>0.0</td>\n",
       "      <td>0.0</td>\n",
       "      <td>0.0</td>\n",
       "      <td>0.0</td>\n",
       "    </tr>\n",
       "  </tbody>\n",
       "</table>\n",
       "<p>5 rows × 3864 columns</p>\n",
       "</div>"
      ],
      "text/plain": [
       "   genre|21st_century_classical  genre|48g  genre|5th_wave_emo  \\\n",
       "0                           0.0        0.0                 0.0   \n",
       "1                           0.0        0.0                 0.0   \n",
       "2                           0.0        0.0                 0.0   \n",
       "3                           0.0        0.0                 0.0   \n",
       "4                           0.0        0.0                 0.0   \n",
       "\n",
       "   genre|_brasileira  genre|_hip_hop  genre|a_cappella  genre|aarhus_indie  \\\n",
       "0                0.0             0.0               0.0                 0.0   \n",
       "1                0.0             0.0               0.0                 0.0   \n",
       "2                0.0             0.0               0.0                 0.0   \n",
       "3                0.0             0.0               0.0                 0.0   \n",
       "4                0.0             0.0               0.0                 0.0   \n",
       "\n",
       "   genre|aberdeen_indie  genre|abstract  genre|abstract_beats  ...  \\\n",
       "0                   0.0             0.0                   0.0  ...   \n",
       "1                   0.0             0.0                   0.0  ...   \n",
       "2                   0.0             0.0                   0.0  ...   \n",
       "3                   0.0             0.0                   0.0  ...   \n",
       "4                   0.0             0.0                   0.0  ...   \n",
       "\n",
       "   genre|zenonesque  genre|zeuhl  genre|zim_urban_groove  genre|zimdancehall  \\\n",
       "0               0.0          0.0                     0.0                 0.0   \n",
       "1               0.0          0.0                     0.0                 0.0   \n",
       "2               0.0          0.0                     0.0                 0.0   \n",
       "3               0.0          0.0                     0.0                 0.0   \n",
       "4               0.0          0.0                     0.0                 0.0   \n",
       "\n",
       "   genre|zolo  genre|zouglou  genre|zouk  genre|zouk_riddim  \\\n",
       "0         0.0            0.0         0.0                0.0   \n",
       "1         0.0            0.0         0.0                0.0   \n",
       "2         0.0            0.0         0.0                0.0   \n",
       "3         0.0            0.0         0.0                0.0   \n",
       "4         0.0            0.0         0.0                0.0   \n",
       "\n",
       "   genre|zurich_indie  genre|zydeco  \n",
       "0                 0.0           0.0  \n",
       "1                 0.0           0.0  \n",
       "2                 0.0           0.0  \n",
       "3                 0.0           0.0  \n",
       "4                 0.0           0.0  \n",
       "\n",
       "[5 rows x 3864 columns]"
      ]
     },
     "execution_count": 91,
     "metadata": {},
     "output_type": "execute_result"
    }
   ],
   "source": [
    "genre_df.head()"
   ]
  },
  {
   "cell_type": "code",
   "execution_count": 97,
   "id": "f472fa16-570f-4fa8-a567-2dafb0d2cb75",
   "metadata": {},
   "outputs": [
    {
     "data": {
      "text/plain": [
       "0         0.0\n",
       "1         0.0\n",
       "2         0.0\n",
       "3         0.0\n",
       "4         0.0\n",
       "         ... \n",
       "558570    0.0\n",
       "558571    0.0\n",
       "558572    0.0\n",
       "558573    0.0\n",
       "558574    0.0\n",
       "Name: genre|estonian_jazz, Length: 558575, dtype: float64"
      ]
     },
     "execution_count": 97,
     "metadata": {},
     "output_type": "execute_result"
    }
   ],
   "source": [
    "genre_df['genre|estonian_jazz']"
   ]
  },
  {
   "cell_type": "code",
   "execution_count": 98,
   "id": "54457490-caa0-4b44-8c4f-52ac05bf6ac0",
   "metadata": {},
   "outputs": [
    {
     "data": {
      "text/plain": [
       "0         0.0\n",
       "1         0.0\n",
       "2         0.0\n",
       "3         0.0\n",
       "4         0.0\n",
       "         ... \n",
       "558570    0.0\n",
       "558571    0.0\n",
       "558572    0.0\n",
       "558573    0.0\n",
       "558574    0.0\n",
       "Name: genre|21st_century_classical, Length: 558575, dtype: float64"
      ]
     },
     "execution_count": 98,
     "metadata": {},
     "output_type": "execute_result"
    }
   ],
   "source": [
    "genre_df['genre|21st_century_classical']"
   ]
  },
  {
   "cell_type": "code",
   "execution_count": 99,
   "id": "827b5328-99c8-4d85-a29d-d8439768ea24",
   "metadata": {},
   "outputs": [
    {
     "data": {
      "text/plain": [
       "(558575, 3864)"
      ]
     },
     "execution_count": 99,
     "metadata": {},
     "output_type": "execute_result"
    }
   ],
   "source": [
    "genre_df.shape"
   ]
  },
  {
   "cell_type": "code",
   "execution_count": 106,
   "id": "9fe533d3-e269-4180-9829-53ddcd2c845b",
   "metadata": {},
   "outputs": [
    {
     "data": {
      "text/plain": [
       "(267530, 3900)"
      ]
     },
     "execution_count": 106,
     "metadata": {},
     "output_type": "execute_result"
    }
   ],
   "source": [
    "df5.shape"
   ]
  },
  {
   "cell_type": "code",
   "execution_count": 107,
   "id": "da46b786-eec4-4111-8d6f-70ea2c22ce42",
   "metadata": {},
   "outputs": [
    {
     "data": {
      "text/html": [
       "<div>\n",
       "<style scoped>\n",
       "    .dataframe tbody tr th:only-of-type {\n",
       "        vertical-align: middle;\n",
       "    }\n",
       "\n",
       "    .dataframe tbody tr th {\n",
       "        vertical-align: top;\n",
       "    }\n",
       "\n",
       "    .dataframe thead th {\n",
       "        text-align: right;\n",
       "    }\n",
       "</style>\n",
       "<table border=\"1\" class=\"dataframe\">\n",
       "  <thead>\n",
       "    <tr style=\"text-align: right;\">\n",
       "      <th></th>\n",
       "      <th>name</th>\n",
       "      <th>album</th>\n",
       "      <th>explicit</th>\n",
       "      <th>key</th>\n",
       "      <th>mode</th>\n",
       "      <th>year</th>\n",
       "      <th>artists_final</th>\n",
       "      <th>age_1996-2000</th>\n",
       "      <th>age_1991-1995</th>\n",
       "      <th>age_2018</th>\n",
       "      <th>...</th>\n",
       "      <th>danceability</th>\n",
       "      <th>energy</th>\n",
       "      <th>loudness</th>\n",
       "      <th>speechiness</th>\n",
       "      <th>acousticness</th>\n",
       "      <th>instrumentalness</th>\n",
       "      <th>liveness</th>\n",
       "      <th>valence</th>\n",
       "      <th>tempo</th>\n",
       "      <th>time_signature</th>\n",
       "    </tr>\n",
       "  </thead>\n",
       "  <tbody>\n",
       "    <tr>\n",
       "      <th>0</th>\n",
       "      <td>Testify</td>\n",
       "      <td>The Battle Of Los Angeles</td>\n",
       "      <td>0.0</td>\n",
       "      <td>7.0</td>\n",
       "      <td>1.0</td>\n",
       "      <td>1999.0</td>\n",
       "      <td>[Rage Against The Machine]</td>\n",
       "      <td>1.0</td>\n",
       "      <td>0.0</td>\n",
       "      <td>0.0</td>\n",
       "      <td>...</td>\n",
       "      <td>0.470</td>\n",
       "      <td>0.978</td>\n",
       "      <td>0.812104</td>\n",
       "      <td>0.075026</td>\n",
       "      <td>0.026205</td>\n",
       "      <td>0.000011</td>\n",
       "      <td>0.3560</td>\n",
       "      <td>0.503</td>\n",
       "      <td>0.477578</td>\n",
       "      <td>0.8</td>\n",
       "    </tr>\n",
       "    <tr>\n",
       "      <th>1</th>\n",
       "      <td>Guerrilla Radio</td>\n",
       "      <td>The Battle Of Los Angeles</td>\n",
       "      <td>1.0</td>\n",
       "      <td>11.0</td>\n",
       "      <td>1.0</td>\n",
       "      <td>1999.0</td>\n",
       "      <td>[Rage Against The Machine]</td>\n",
       "      <td>1.0</td>\n",
       "      <td>0.0</td>\n",
       "      <td>0.0</td>\n",
       "      <td>...</td>\n",
       "      <td>0.599</td>\n",
       "      <td>0.957</td>\n",
       "      <td>0.806675</td>\n",
       "      <td>0.194014</td>\n",
       "      <td>0.012952</td>\n",
       "      <td>0.000071</td>\n",
       "      <td>0.1550</td>\n",
       "      <td>0.489</td>\n",
       "      <td>0.419956</td>\n",
       "      <td>0.8</td>\n",
       "    </tr>\n",
       "    <tr>\n",
       "      <th>2</th>\n",
       "      <td>Calm Like a Bomb</td>\n",
       "      <td>The Battle Of Los Angeles</td>\n",
       "      <td>0.0</td>\n",
       "      <td>7.0</td>\n",
       "      <td>1.0</td>\n",
       "      <td>1999.0</td>\n",
       "      <td>[Rage Against The Machine]</td>\n",
       "      <td>1.0</td>\n",
       "      <td>0.0</td>\n",
       "      <td>0.0</td>\n",
       "      <td>...</td>\n",
       "      <td>0.315</td>\n",
       "      <td>0.970</td>\n",
       "      <td>0.811732</td>\n",
       "      <td>0.498452</td>\n",
       "      <td>0.023494</td>\n",
       "      <td>0.000002</td>\n",
       "      <td>0.1220</td>\n",
       "      <td>0.370</td>\n",
       "      <td>0.606559</td>\n",
       "      <td>0.8</td>\n",
       "    </tr>\n",
       "    <tr>\n",
       "      <th>3</th>\n",
       "      <td>Mic Check</td>\n",
       "      <td>The Battle Of Los Angeles</td>\n",
       "      <td>1.0</td>\n",
       "      <td>11.0</td>\n",
       "      <td>0.0</td>\n",
       "      <td>1999.0</td>\n",
       "      <td>[Rage Against The Machine]</td>\n",
       "      <td>1.0</td>\n",
       "      <td>0.0</td>\n",
       "      <td>0.0</td>\n",
       "      <td>...</td>\n",
       "      <td>0.440</td>\n",
       "      <td>0.967</td>\n",
       "      <td>0.805694</td>\n",
       "      <td>0.244582</td>\n",
       "      <td>0.163655</td>\n",
       "      <td>0.000004</td>\n",
       "      <td>0.1210</td>\n",
       "      <td>0.574</td>\n",
       "      <td>0.391894</td>\n",
       "      <td>0.8</td>\n",
       "    </tr>\n",
       "    <tr>\n",
       "      <th>4</th>\n",
       "      <td>Sleep Now In the Fire</td>\n",
       "      <td>The Battle Of Los Angeles</td>\n",
       "      <td>0.0</td>\n",
       "      <td>2.0</td>\n",
       "      <td>1.0</td>\n",
       "      <td>1999.0</td>\n",
       "      <td>[Rage Against The Machine]</td>\n",
       "      <td>1.0</td>\n",
       "      <td>0.0</td>\n",
       "      <td>0.0</td>\n",
       "      <td>...</td>\n",
       "      <td>0.426</td>\n",
       "      <td>0.929</td>\n",
       "      <td>0.792322</td>\n",
       "      <td>0.072343</td>\n",
       "      <td>0.001627</td>\n",
       "      <td>0.105000</td>\n",
       "      <td>0.0789</td>\n",
       "      <td>0.539</td>\n",
       "      <td>0.514653</td>\n",
       "      <td>0.8</td>\n",
       "    </tr>\n",
       "  </tbody>\n",
       "</table>\n",
       "<p>5 rows × 3900 columns</p>\n",
       "</div>"
      ],
      "text/plain": [
       "                    name                      album  explicit   key  mode  \\\n",
       "0                Testify  The Battle Of Los Angeles       0.0   7.0   1.0   \n",
       "1        Guerrilla Radio  The Battle Of Los Angeles       1.0  11.0   1.0   \n",
       "2       Calm Like a Bomb  The Battle Of Los Angeles       0.0   7.0   1.0   \n",
       "3              Mic Check  The Battle Of Los Angeles       1.0  11.0   0.0   \n",
       "4  Sleep Now In the Fire  The Battle Of Los Angeles       0.0   2.0   1.0   \n",
       "\n",
       "     year               artists_final  age_1996-2000  age_1991-1995  age_2018  \\\n",
       "0  1999.0  [Rage Against The Machine]            1.0            0.0       0.0   \n",
       "1  1999.0  [Rage Against The Machine]            1.0            0.0       0.0   \n",
       "2  1999.0  [Rage Against The Machine]            1.0            0.0       0.0   \n",
       "3  1999.0  [Rage Against The Machine]            1.0            0.0       0.0   \n",
       "4  1999.0  [Rage Against The Machine]            1.0            0.0       0.0   \n",
       "\n",
       "   ...  danceability  energy  loudness  speechiness  acousticness  \\\n",
       "0  ...         0.470   0.978  0.812104     0.075026      0.026205   \n",
       "1  ...         0.599   0.957  0.806675     0.194014      0.012952   \n",
       "2  ...         0.315   0.970  0.811732     0.498452      0.023494   \n",
       "3  ...         0.440   0.967  0.805694     0.244582      0.163655   \n",
       "4  ...         0.426   0.929  0.792322     0.072343      0.001627   \n",
       "\n",
       "   instrumentalness  liveness  valence     tempo  time_signature  \n",
       "0          0.000011    0.3560    0.503  0.477578             0.8  \n",
       "1          0.000071    0.1550    0.489  0.419956             0.8  \n",
       "2          0.000002    0.1220    0.370  0.606559             0.8  \n",
       "3          0.000004    0.1210    0.574  0.391894             0.8  \n",
       "4          0.105000    0.0789    0.539  0.514653             0.8  \n",
       "\n",
       "[5 rows x 3900 columns]"
      ]
     },
     "execution_count": 107,
     "metadata": {},
     "output_type": "execute_result"
    }
   ],
   "source": [
    "df5.head()"
   ]
  },
  {
   "cell_type": "code",
   "execution_count": 110,
   "id": "646231c9-054e-4ff8-b74c-b8d9f37aba81",
   "metadata": {},
   "outputs": [
    {
     "data": {
      "text/html": [
       "<div>\n",
       "<style scoped>\n",
       "    .dataframe tbody tr th:only-of-type {\n",
       "        vertical-align: middle;\n",
       "    }\n",
       "\n",
       "    .dataframe tbody tr th {\n",
       "        vertical-align: top;\n",
       "    }\n",
       "\n",
       "    .dataframe thead th {\n",
       "        text-align: right;\n",
       "    }\n",
       "</style>\n",
       "<table border=\"1\" class=\"dataframe\">\n",
       "  <thead>\n",
       "    <tr style=\"text-align: right;\">\n",
       "      <th></th>\n",
       "      <th>name</th>\n",
       "      <th>album</th>\n",
       "      <th>artists_final</th>\n",
       "      <th>genres_1</th>\n",
       "    </tr>\n",
       "  </thead>\n",
       "  <tbody>\n",
       "    <tr>\n",
       "      <th>0</th>\n",
       "      <td>Testify</td>\n",
       "      <td>The Battle Of Los Angeles</td>\n",
       "      <td>[Rage Against The Machine]</td>\n",
       "      <td>[alternative_metal]</td>\n",
       "    </tr>\n",
       "    <tr>\n",
       "      <th>1</th>\n",
       "      <td>Guerrilla Radio</td>\n",
       "      <td>The Battle Of Los Angeles</td>\n",
       "      <td>[Rage Against The Machine]</td>\n",
       "      <td>[alternative_metal]</td>\n",
       "    </tr>\n",
       "    <tr>\n",
       "      <th>2</th>\n",
       "      <td>Calm Like a Bomb</td>\n",
       "      <td>The Battle Of Los Angeles</td>\n",
       "      <td>[Rage Against The Machine]</td>\n",
       "      <td>[alternative_metal]</td>\n",
       "    </tr>\n",
       "    <tr>\n",
       "      <th>3</th>\n",
       "      <td>Mic Check</td>\n",
       "      <td>The Battle Of Los Angeles</td>\n",
       "      <td>[Rage Against The Machine]</td>\n",
       "      <td>[alternative_metal]</td>\n",
       "    </tr>\n",
       "    <tr>\n",
       "      <th>4</th>\n",
       "      <td>Sleep Now In the Fire</td>\n",
       "      <td>The Battle Of Los Angeles</td>\n",
       "      <td>[Rage Against The Machine]</td>\n",
       "      <td>[alternative_metal]</td>\n",
       "    </tr>\n",
       "    <tr>\n",
       "      <th>...</th>\n",
       "      <td>...</td>\n",
       "      <td>...</td>\n",
       "      <td>...</td>\n",
       "      <td>...</td>\n",
       "    </tr>\n",
       "    <tr>\n",
       "      <th>558557</th>\n",
       "      <td>Mix Lalo Tzul: Cuando Te Vayas / Alegres Taxis...</td>\n",
       "      <td>Folklore Vol. 7. Música de Guatemala para los ...</td>\n",
       "      <td>[Marimba Maria Concepcion]</td>\n",
       "      <td>[marimba_orquesta]</td>\n",
       "    </tr>\n",
       "    <tr>\n",
       "      <th>558558</th>\n",
       "      <td>Traicionera - En Vivo</td>\n",
       "      <td>Folklore Vol. 7. Música de Guatemala para los ...</td>\n",
       "      <td>[Marimba Maria Concepcion]</td>\n",
       "      <td>[marimba_orquesta]</td>\n",
       "    </tr>\n",
       "    <tr>\n",
       "      <th>558559</th>\n",
       "      <td>Costa Norte - En Vivo</td>\n",
       "      <td>Folklore Vol. 7. Música de Guatemala para los ...</td>\n",
       "      <td>[Marimba Maria Concepcion]</td>\n",
       "      <td>[marimba_orquesta]</td>\n",
       "    </tr>\n",
       "    <tr>\n",
       "      <th>558560</th>\n",
       "      <td>Las Chancletas de Nayo Capero - En Vivo</td>\n",
       "      <td>Folklore Vol. 7. Música de Guatemala para los ...</td>\n",
       "      <td>[Marimba Maria Concepcion]</td>\n",
       "      <td>[marimba_orquesta]</td>\n",
       "    </tr>\n",
       "    <tr>\n",
       "      <th>558561</th>\n",
       "      <td>Mix de Sones: El Rey Quiche / Mi Linda María /...</td>\n",
       "      <td>Folklore Vol. 7. Música de Guatemala para los ...</td>\n",
       "      <td>[Marimba Maria Concepcion]</td>\n",
       "      <td>[marimba_orquesta]</td>\n",
       "    </tr>\n",
       "  </tbody>\n",
       "</table>\n",
       "<p>267530 rows × 4 columns</p>\n",
       "</div>"
      ],
      "text/plain": [
       "                                                     name  \\\n",
       "0                                                 Testify   \n",
       "1                                         Guerrilla Radio   \n",
       "2                                        Calm Like a Bomb   \n",
       "3                                               Mic Check   \n",
       "4                                   Sleep Now In the Fire   \n",
       "...                                                   ...   \n",
       "558557  Mix Lalo Tzul: Cuando Te Vayas / Alegres Taxis...   \n",
       "558558                              Traicionera - En Vivo   \n",
       "558559                              Costa Norte - En Vivo   \n",
       "558560            Las Chancletas de Nayo Capero - En Vivo   \n",
       "558561  Mix de Sones: El Rey Quiche / Mi Linda María /...   \n",
       "\n",
       "                                                    album  \\\n",
       "0                               The Battle Of Los Angeles   \n",
       "1                               The Battle Of Los Angeles   \n",
       "2                               The Battle Of Los Angeles   \n",
       "3                               The Battle Of Los Angeles   \n",
       "4                               The Battle Of Los Angeles   \n",
       "...                                                   ...   \n",
       "558557  Folklore Vol. 7. Música de Guatemala para los ...   \n",
       "558558  Folklore Vol. 7. Música de Guatemala para los ...   \n",
       "558559  Folklore Vol. 7. Música de Guatemala para los ...   \n",
       "558560  Folklore Vol. 7. Música de Guatemala para los ...   \n",
       "558561  Folklore Vol. 7. Música de Guatemala para los ...   \n",
       "\n",
       "                     artists_final             genres_1  \n",
       "0       [Rage Against The Machine]  [alternative_metal]  \n",
       "1       [Rage Against The Machine]  [alternative_metal]  \n",
       "2       [Rage Against The Machine]  [alternative_metal]  \n",
       "3       [Rage Against The Machine]  [alternative_metal]  \n",
       "4       [Rage Against The Machine]  [alternative_metal]  \n",
       "...                            ...                  ...  \n",
       "558557  [Marimba Maria Concepcion]   [marimba_orquesta]  \n",
       "558558  [Marimba Maria Concepcion]   [marimba_orquesta]  \n",
       "558559  [Marimba Maria Concepcion]   [marimba_orquesta]  \n",
       "558560  [Marimba Maria Concepcion]   [marimba_orquesta]  \n",
       "558561  [Marimba Maria Concepcion]   [marimba_orquesta]  \n",
       "\n",
       "[267530 rows x 4 columns]"
      ]
     },
     "execution_count": 110,
     "metadata": {},
     "output_type": "execute_result"
    }
   ],
   "source": [
    "df5.select_dtypes(include = 'O')"
   ]
  },
  {
   "cell_type": "code",
   "execution_count": 111,
   "id": "638879f1-c66a-4486-a649-41552c5582a5",
   "metadata": {},
   "outputs": [],
   "source": [
    "df5.to_csv('spotify_genres.csv')"
   ]
  },
  {
   "cell_type": "code",
   "execution_count": 112,
   "id": "378cbbb5-ba4c-4341-b718-b4c7bae04f72",
   "metadata": {},
   "outputs": [],
   "source": [
    "dropper2 = ['name', 'album', 'artists_final', 'genres_1']"
   ]
  },
  {
   "cell_type": "code",
   "execution_count": 113,
   "id": "04370fe2-af31-481c-ad3e-b0b7cc4a6cbb",
   "metadata": {},
   "outputs": [],
   "source": [
    "df5.drop(columns = dropper2, inplace = True)"
   ]
  },
  {
   "cell_type": "code",
   "execution_count": 115,
   "id": "7c7d4abb-cbbe-4fd3-b170-8cfced81f4ea",
   "metadata": {},
   "outputs": [],
   "source": [
    "df5.drop(columns = ['year'], inplace = True)"
   ]
  },
  {
   "cell_type": "code",
   "execution_count": 119,
   "id": "0e51a635-5d6b-4a2c-8999-d9f1db66d8de",
   "metadata": {},
   "outputs": [
    {
     "data": {
      "text/plain": [
       "NearestNeighbors(algorithm='brute', n_jobs=-1, n_neighbors=6)"
      ]
     },
     "execution_count": 119,
     "metadata": {},
     "output_type": "execute_result"
    }
   ],
   "source": [
    "# Fit on DTM\n",
    "nn = NearestNeighbors(n_neighbors=6, algorithm= 'brute', n_jobs = -1)\n",
    "nn.fit(df5)"
   ]
  },
  {
   "cell_type": "code",
   "execution_count": 120,
   "id": "7e0cebfb-f703-4d7d-a98e-ccaf6ce91b93",
   "metadata": {},
   "outputs": [
    {
     "name": "stdout",
     "output_type": "stream",
     "text": [
      "[[0.         0.32108115 0.44185656 1.05680907 1.07796609 1.09888592]]\n",
      "[[   236    240  35524 262780  35520  35519]]\n"
     ]
    }
   ],
   "source": [
    "# sample a doc from dtm to use as our query point \n",
    "doc_index = 236\n",
    "doc = [df5.iloc[doc_index].values]\n",
    "\n",
    "# Query Using kneighbors \n",
    "neigh_dist, neigh_index = nn.kneighbors(doc)\n",
    "\n",
    "print(neigh_dist)\n",
    "print(neigh_index)"
   ]
  },
  {
   "cell_type": "code",
   "execution_count": 127,
   "id": "f123eee4-3ae4-47cb-a43d-09f014aee662",
   "metadata": {},
   "outputs": [
    {
     "data": {
      "text/plain": [
       "id                           2zdmlXzV4uYj4kGMLtNW29\n",
       "name                Introduction, Romance and Waltz\n",
       "album                                Ewan Dobson II\n",
       "album_id                     0Eh3IjZwngziLClkaJXfiJ\n",
       "artists                             ['Ewan Dobson']\n",
       "artist_ids                   68Tu5kmhurThXqZeRgsKi1\n",
       "track_number                                      8\n",
       "disc_number                                       1\n",
       "explicit                                      False\n",
       "danceability                                  0.573\n",
       "energy                                        0.393\n",
       "key                                               0\n",
       "loudness                                    -11.884\n",
       "mode                                              1\n",
       "speechiness                                   0.175\n",
       "acousticness                                  0.785\n",
       "instrumentalness                              0.845\n",
       "liveness                                       0.11\n",
       "valence                                       0.253\n",
       "tempo                                       115.314\n",
       "duration_ms                                  227107\n",
       "time_signature                                  4.0\n",
       "year                                           2010\n",
       "release_date                             2010-12-07\n",
       "Name: 262780, dtype: object"
      ]
     },
     "execution_count": 127,
     "metadata": {},
     "output_type": "execute_result"
    }
   ],
   "source": [
    "df.iloc[262780]"
   ]
  },
  {
   "cell_type": "code",
   "execution_count": 131,
   "id": "b1e93686-9c62-4aeb-a730-35d7c7fd1ed0",
   "metadata": {},
   "outputs": [
    {
     "data": {
      "text/plain": [
       "explicit            0.000000\n",
       "key                 4.000000\n",
       "mode                1.000000\n",
       "age_1996-2000       1.000000\n",
       "age_1991-1995       0.000000\n",
       "                      ...   \n",
       "instrumentalness    0.000000\n",
       "liveness            0.110000\n",
       "valence             0.356000\n",
       "tempo               0.485169\n",
       "time_signature      0.800000\n",
       "Name: 257, Length: 3895, dtype: float64"
      ]
     },
     "execution_count": 131,
     "metadata": {},
     "output_type": "execute_result"
    }
   ],
   "source": [
    "df5.iloc[236]"
   ]
  },
  {
   "cell_type": "code",
   "execution_count": 130,
   "id": "b9859662-7e08-4e41-a3bb-e2f236d813eb",
   "metadata": {},
   "outputs": [
    {
     "data": {
      "text/plain": [
       "''"
      ]
     },
     "execution_count": 130,
     "metadata": {},
     "output_type": "execute_result"
    }
   ],
   "source": [
    ";"
   ]
  },
  {
   "cell_type": "code",
   "execution_count": null,
   "id": "a7c94d60-4aa7-4ceb-ad1a-98837215fff9",
   "metadata": {},
   "outputs": [],
   "source": []
  }
 ],
 "metadata": {
  "kernelspec": {
   "display_name": "Python 3",
   "language": "python",
   "name": "python3"
  },
  "language_info": {
   "codemirror_mode": {
    "name": "ipython",
    "version": 3
   },
   "file_extension": ".py",
   "mimetype": "text/x-python",
   "name": "python",
   "nbconvert_exporter": "python",
   "pygments_lexer": "ipython3",
   "version": "3.8.8"
  }
 },
 "nbformat": 4,
 "nbformat_minor": 5
}
