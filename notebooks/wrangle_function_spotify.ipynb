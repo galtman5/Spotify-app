{
  "nbformat": 4,
  "nbformat_minor": 0,
  "metadata": {
    "colab": {
      "name": "wrangle_function_spotify.ipynb",
      "provenance": [],
      "collapsed_sections": [],
      "machine_shape": "hm"
    },
    "kernelspec": {
      "name": "python3",
      "display_name": "Python 3"
    },
    "language_info": {
      "name": "python"
    },
    "accelerator": "TPU"
  },
  "cells": [
    {
      "cell_type": "code",
      "metadata": {
        "colab": {
          "base_uri": "https://localhost:8080/"
        },
        "id": "EWwwh70CyeN9",
        "outputId": "9d5a8966-7c5a-4207-e987-f623fcccb5c2"
      },
      "source": [
        "pip install feature-engine"
      ],
      "execution_count": 45,
      "outputs": [
        {
          "output_type": "stream",
          "text": [
            "Requirement already satisfied: feature-engine in /usr/local/lib/python3.7/dist-packages (1.1.1)\n",
            "Requirement already satisfied: statsmodels>=0.11.1 in /usr/local/lib/python3.7/dist-packages (from feature-engine) (0.12.2)\n",
            "Requirement already satisfied: numpy>=1.18.2 in /usr/local/lib/python3.7/dist-packages (from feature-engine) (1.19.5)\n",
            "Requirement already satisfied: pandas>=1.0.3 in /usr/local/lib/python3.7/dist-packages (from feature-engine) (1.1.5)\n",
            "Requirement already satisfied: scikit-learn>=0.22.2 in /usr/local/lib/python3.7/dist-packages (from feature-engine) (0.22.2.post1)\n",
            "Requirement already satisfied: scipy>=1.4.1 in /usr/local/lib/python3.7/dist-packages (from feature-engine) (1.4.1)\n",
            "Requirement already satisfied: pytz>=2017.2 in /usr/local/lib/python3.7/dist-packages (from pandas>=1.0.3->feature-engine) (2018.9)\n",
            "Requirement already satisfied: python-dateutil>=2.7.3 in /usr/local/lib/python3.7/dist-packages (from pandas>=1.0.3->feature-engine) (2.8.2)\n",
            "Requirement already satisfied: six>=1.5 in /usr/local/lib/python3.7/dist-packages (from python-dateutil>=2.7.3->pandas>=1.0.3->feature-engine) (1.15.0)\n",
            "Requirement already satisfied: joblib>=0.11 in /usr/local/lib/python3.7/dist-packages (from scikit-learn>=0.22.2->feature-engine) (1.0.1)\n",
            "Requirement already satisfied: patsy>=0.5 in /usr/local/lib/python3.7/dist-packages (from statsmodels>=0.11.1->feature-engine) (0.5.1)\n"
          ],
          "name": "stdout"
        }
      ]
    },
    {
      "cell_type": "code",
      "metadata": {
        "id": "kCfhwJKtw4rN"
      },
      "source": [
        "import numpy as np \n",
        "import pandas as pd\n",
        "import sklearn\n",
        "import feature_engine\n",
        "from feature_engine.encoding import OneHotEncoder as fe_OneHotEncoder\n",
        "from sklearn.preprocessing import MinMaxScaler\n",
        "import re\n",
        "import joblib\n"
      ],
      "execution_count": 119,
      "outputs": []
    },
    {
      "cell_type": "code",
      "metadata": {
        "id": "UTH_RgCIus1P"
      },
      "source": [
        "df = pd.read_csv('/content/input_track_w_features_df.csv')"
      ],
      "execution_count": 47,
      "outputs": []
    },
    {
      "cell_type": "code",
      "metadata": {
        "id": "qiDYwOeZEzO0"
      },
      "source": [
        "def explicit_binarizer(x):\n",
        "  if x == True:\n",
        "    return 1 \n",
        "  else:\n",
        "    return 0"
      ],
      "execution_count": 48,
      "outputs": []
    },
    {
      "cell_type": "code",
      "metadata": {
        "id": "XSRpDIrnxcDx"
      },
      "source": [
        "def decade_function(x):\n",
        "    if x in range(1900,1991):\n",
        "        return '1900-1990'\n",
        "    elif x in range(1991,1996):\n",
        "        return '1991-1995'\n",
        "    elif x in range(1996,2001):\n",
        "        return '1996-2000'\n",
        "    elif x in range(2001,2006):\n",
        "        return '2001-2005'\n",
        "    elif x == 2006:\n",
        "        return '2006' \n",
        "    elif x == 2007:\n",
        "        return '2007'\n",
        "    elif x == 2008:\n",
        "        return '2008'\n",
        "    elif x == 2009:\n",
        "        return '2009'\n",
        "    elif x == 2010:\n",
        "        return '2010'\n",
        "    elif x == 2011:\n",
        "        return '2011'\n",
        "    elif x == 2012:\n",
        "        return '2012'\n",
        "    elif x == 2013:\n",
        "        return '2013'\n",
        "    elif x == 2014:\n",
        "        return '2014'\n",
        "    elif x == 2015:\n",
        "        return '2015'\n",
        "    elif x == 2016:\n",
        "        return '2016'\n",
        "    elif x == 2017:\n",
        "        return '2017'\n",
        "    elif x == 2018:\n",
        "        return '2018'\n",
        "    elif x == 2019:\n",
        "        return '2019'\n",
        "    elif x == 2020:\n",
        "        return '2020'\n",
        "    elif x == 2021:\n",
        "        return '2021'"
      ],
      "execution_count": 49,
      "outputs": []
    },
    {
      "cell_type": "code",
      "metadata": {
        "colab": {
          "base_uri": "https://localhost:8080/",
          "height": 118
        },
        "id": "NtOh0uDxFF1d",
        "outputId": "38ba86ad-ed36-435e-fba1-b23e795d25f4"
      },
      "source": [
        "df.head()"
      ],
      "execution_count": 50,
      "outputs": [
        {
          "output_type": "execute_result",
          "data": {
            "text/html": [
              "<div>\n",
              "<style scoped>\n",
              "    .dataframe tbody tr th:only-of-type {\n",
              "        vertical-align: middle;\n",
              "    }\n",
              "\n",
              "    .dataframe tbody tr th {\n",
              "        vertical-align: top;\n",
              "    }\n",
              "\n",
              "    .dataframe thead th {\n",
              "        text-align: right;\n",
              "    }\n",
              "</style>\n",
              "<table border=\"1\" class=\"dataframe\">\n",
              "  <thead>\n",
              "    <tr style=\"text-align: right;\">\n",
              "      <th></th>\n",
              "      <th>Unnamed: 0</th>\n",
              "      <th>danceability</th>\n",
              "      <th>energy</th>\n",
              "      <th>key</th>\n",
              "      <th>loudness</th>\n",
              "      <th>mode</th>\n",
              "      <th>speechiness</th>\n",
              "      <th>acousticness</th>\n",
              "      <th>instrumentalness</th>\n",
              "      <th>liveness</th>\n",
              "      <th>valence</th>\n",
              "      <th>tempo</th>\n",
              "      <th>time_signature</th>\n",
              "      <th>year</th>\n",
              "      <th>explicit</th>\n",
              "    </tr>\n",
              "  </thead>\n",
              "  <tbody>\n",
              "    <tr>\n",
              "      <th>0</th>\n",
              "      <td>0</td>\n",
              "      <td>0.596</td>\n",
              "      <td>0.824</td>\n",
              "      <td>4</td>\n",
              "      <td>-4.893</td>\n",
              "      <td>0</td>\n",
              "      <td>0.0361</td>\n",
              "      <td>0.0504</td>\n",
              "      <td>0.129</td>\n",
              "      <td>0.0586</td>\n",
              "      <td>0.786</td>\n",
              "      <td>135.171</td>\n",
              "      <td>4</td>\n",
              "      <td>1979</td>\n",
              "      <td>False</td>\n",
              "    </tr>\n",
              "  </tbody>\n",
              "</table>\n",
              "</div>"
            ],
            "text/plain": [
              "   Unnamed: 0  danceability  energy  ...  time_signature  year  explicit\n",
              "0           0         0.596   0.824  ...               4  1979     False\n",
              "\n",
              "[1 rows x 15 columns]"
            ]
          },
          "metadata": {},
          "execution_count": 50
        }
      ]
    },
    {
      "cell_type": "code",
      "metadata": {
        "id": "BabGTsASxdaQ"
      },
      "source": [
        "def wrangle(df):\n",
        "  df.drop(columns='Unnamed: 0', inplace = True)\n",
        "  df['explicit'] = df['explicit'].apply(explicit_binarizer)\n",
        "  df['age'] = df['year'].apply(decade_function)\n",
        "  loaded_ohe = joblib.load('/content/ohe.joblib')\n",
        "  df = loaded_ohe.transform(df.fillna('Missing'))\n",
        "  #feature scailing for float columns in df3\n",
        "  loaded_scaler = joblib.load('/content/scaler.joblib')\n",
        "  scale_cols = ['danceability', 'energy', 'loudness', 'speechiness',\n",
        "       'acousticness', 'instrumentalness', 'liveness', 'valence', 'tempo',\n",
        "       'time_signature', 'key', 'mode']\n",
        "  scaled = df[scale_cols].reset_index(drop=True)\n",
        "  scaler = loaded_scaler\n",
        "  scaled_float_df = pd.DataFrame(scaler.transform(scaled), columns = scaled.columns)\n",
        "  df.drop(columns = scale_cols, inplace = True)\n",
        "  df = pd.concat([df, scaled_float_df], axis = 1)\n",
        "  df.drop(columns='year', inplace = True)\n",
        "  return df"
      ],
      "execution_count": 51,
      "outputs": []
    },
    {
      "cell_type": "code",
      "metadata": {
        "id": "XUyzd1ygE2eg"
      },
      "source": [
        "df = wrangle(df)"
      ],
      "execution_count": 52,
      "outputs": []
    },
    {
      "cell_type": "code",
      "metadata": {
        "id": "6UairIqyGgxf",
        "colab": {
          "base_uri": "https://localhost:8080/"
        },
        "outputId": "1720a02f-3d9e-4147-dcb0-e4eef1601134"
      },
      "source": [
        "# Load pickled model and recommendations lookup dataframe\n",
        "knn_loader = joblib.load('/content/knn_model.joblib')\n",
        "!unzip '/content/df_rec_lookup.zip'\n",
        "df_rec_lookup = pd.read_csv('df_rec_lookup.csv')"
      ],
      "execution_count": 68,
      "outputs": [
        {
          "output_type": "stream",
          "text": [
            "Archive:  /content/df_rec_lookup.zip\n",
            "replace df_rec_lookup.csv? [y]es, [n]o, [A]ll, [N]one, [r]ename: [y]\n",
            "error:  invalid response [[y]]\n",
            "replace df_rec_lookup.csv? [y]es, [n]o, [A]ll, [N]one, [r]ename: y\n",
            "  inflating: df_rec_lookup.csv       \n"
          ],
          "name": "stdout"
        }
      ]
    },
    {
      "cell_type": "code",
      "metadata": {
        "colab": {
          "base_uri": "https://localhost:8080/"
        },
        "id": "ZQIoekAsG_Ee",
        "outputId": "cbf45348-7b06-4cf7-9da1-d588f5a365c1"
      },
      "source": [
        "# Query Using kneighbors \n",
        "__, neigh_index = knn_loader.kneighbors(df)\n",
        "\n",
        "# Instantiate song list\n",
        "song_list = []\n",
        "\n",
        "for i in neigh_index[0][:]:\n",
        "  #df_rec_lookup['artists'][i] = df_rec_lookup['artists'].apply(lambda x: \"\".join(x))\n",
        "  \n",
        "  song_list.append(f\"{df_rec_lookup['name'][i]} by {df_rec_lookup['artists'][i]}\")\n",
        "\n",
        "for i in song_list:\n",
        "  i = re.sub(\"[^a-zA-Z 0-9 \\u00d6 , -]\", '', i)\n",
        "  print(i)\n"
      ],
      "execution_count": 118,
      "outputs": [
        {
          "output_type": "stream",
          "text": [
            "I Am the Storm by Blue Öyster Cult\n",
            "Fourth Day of July by The Washington Squares\n",
            "Texas by Charlie Daniels, The Charlie Daniels Band\n",
            "Sing Baby Sing by The Stylistics\n",
            "China Girl - 2018 Remaster by David Bowie\n",
            "Razors Edge by Meat Loaf\n"
          ],
          "name": "stdout"
        }
      ]
    },
    {
      "cell_type": "code",
      "metadata": {
        "id": "KV-q-EE7JUcd"
      },
      "source": [
        ""
      ],
      "execution_count": null,
      "outputs": []
    }
  ]
}